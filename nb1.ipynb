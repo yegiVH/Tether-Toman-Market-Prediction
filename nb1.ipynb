{
 "cells": [
  {
   "cell_type": "markdown",
   "metadata": {},
   "source": [
    "<h3>Imports</h3>"
   ]
  },
  {
   "cell_type": "code",
   "execution_count": 1,
   "metadata": {},
   "outputs": [],
   "source": [
    "import pandas as pd\n",
    "import numpy as np\n",
    "import plotly.express as px\n",
    "import talib as ta"
   ]
  },
  {
   "cell_type": "markdown",
   "metadata": {},
   "source": [
    "<h3>Reading the data</h3>"
   ]
  },
  {
   "cell_type": "code",
   "execution_count": 2,
   "metadata": {},
   "outputs": [],
   "source": [
    "BTCUSDT = pd.read_csv('data/BTCUSDT.csv')\n",
    "USDIRT = pd.read_csv('data/USDIRT.csv')\n",
    "Wallex_USDIRT = pd.read_csv('data/Wallex_USDIRT.csv')"
   ]
  },
  {
   "cell_type": "markdown",
   "metadata": {},
   "source": [
    "<h3>Seeing the data</h3>"
   ]
  },
  {
   "cell_type": "code",
   "execution_count": 3,
   "metadata": {},
   "outputs": [
    {
     "data": {
      "text/html": [
       "<div>\n",
       "<style scoped>\n",
       "    .dataframe tbody tr th:only-of-type {\n",
       "        vertical-align: middle;\n",
       "    }\n",
       "\n",
       "    .dataframe tbody tr th {\n",
       "        vertical-align: top;\n",
       "    }\n",
       "\n",
       "    .dataframe thead th {\n",
       "        text-align: right;\n",
       "    }\n",
       "</style>\n",
       "<table border=\"1\" class=\"dataframe\">\n",
       "  <thead>\n",
       "    <tr style=\"text-align: right;\">\n",
       "      <th></th>\n",
       "      <th>Datetime</th>\n",
       "      <th>Unnamed: 0</th>\n",
       "      <th>Open</th>\n",
       "      <th>High</th>\n",
       "      <th>Low</th>\n",
       "      <th>Close</th>\n",
       "    </tr>\n",
       "  </thead>\n",
       "  <tbody>\n",
       "    <tr>\n",
       "      <th>0</th>\n",
       "      <td>2022-01-09 09:56:00</td>\n",
       "      <td>0</td>\n",
       "      <td>41737.10</td>\n",
       "      <td>41765.87</td>\n",
       "      <td>41735.01</td>\n",
       "      <td>41764.98</td>\n",
       "    </tr>\n",
       "    <tr>\n",
       "      <th>1</th>\n",
       "      <td>2022-01-09 09:57:00</td>\n",
       "      <td>1</td>\n",
       "      <td>41764.99</td>\n",
       "      <td>41780.91</td>\n",
       "      <td>41764.98</td>\n",
       "      <td>41776.32</td>\n",
       "    </tr>\n",
       "    <tr>\n",
       "      <th>2</th>\n",
       "      <td>2022-01-09 09:58:00</td>\n",
       "      <td>2</td>\n",
       "      <td>41776.31</td>\n",
       "      <td>41788.43</td>\n",
       "      <td>41770.46</td>\n",
       "      <td>41788.43</td>\n",
       "    </tr>\n",
       "    <tr>\n",
       "      <th>3</th>\n",
       "      <td>2022-01-09 09:59:00</td>\n",
       "      <td>3</td>\n",
       "      <td>41788.42</td>\n",
       "      <td>41798.15</td>\n",
       "      <td>41779.17</td>\n",
       "      <td>41791.30</td>\n",
       "    </tr>\n",
       "    <tr>\n",
       "      <th>4</th>\n",
       "      <td>2022-01-09 10:00:00</td>\n",
       "      <td>4</td>\n",
       "      <td>41791.31</td>\n",
       "      <td>41803.34</td>\n",
       "      <td>41781.35</td>\n",
       "      <td>NaN</td>\n",
       "    </tr>\n",
       "  </tbody>\n",
       "</table>\n",
       "</div>"
      ],
      "text/plain": [
       "              Datetime  Unnamed: 0      Open      High       Low     Close\n",
       "0  2022-01-09 09:56:00           0  41737.10  41765.87  41735.01  41764.98\n",
       "1  2022-01-09 09:57:00           1  41764.99  41780.91  41764.98  41776.32\n",
       "2  2022-01-09 09:58:00           2  41776.31  41788.43  41770.46  41788.43\n",
       "3  2022-01-09 09:59:00           3  41788.42  41798.15  41779.17  41791.30\n",
       "4  2022-01-09 10:00:00           4  41791.31  41803.34  41781.35       NaN"
      ]
     },
     "execution_count": 3,
     "metadata": {},
     "output_type": "execute_result"
    }
   ],
   "source": [
    "BTCUSDT.head()"
   ]
  },
  {
   "cell_type": "code",
   "execution_count": 4,
   "metadata": {},
   "outputs": [
    {
     "data": {
      "text/html": [
       "<div>\n",
       "<style scoped>\n",
       "    .dataframe tbody tr th:only-of-type {\n",
       "        vertical-align: middle;\n",
       "    }\n",
       "\n",
       "    .dataframe tbody tr th {\n",
       "        vertical-align: top;\n",
       "    }\n",
       "\n",
       "    .dataframe thead th {\n",
       "        text-align: right;\n",
       "    }\n",
       "</style>\n",
       "<table border=\"1\" class=\"dataframe\">\n",
       "  <thead>\n",
       "    <tr style=\"text-align: right;\">\n",
       "      <th></th>\n",
       "      <th>Datetime</th>\n",
       "      <th>Unnamed: 0</th>\n",
       "      <th>OPEN</th>\n",
       "      <th>HIGH</th>\n",
       "      <th>LOW</th>\n",
       "      <th>CLOSE</th>\n",
       "      <th>TICKVOL</th>\n",
       "      <th>VOL</th>\n",
       "      <th>SPREAD</th>\n",
       "    </tr>\n",
       "  </thead>\n",
       "  <tbody>\n",
       "    <tr>\n",
       "      <th>0</th>\n",
       "      <td>2022-01-09 09:56:00</td>\n",
       "      <td>0</td>\n",
       "      <td>28209</td>\n",
       "      <td>28212</td>\n",
       "      <td>28208</td>\n",
       "      <td>NaN</td>\n",
       "      <td>51</td>\n",
       "      <td>0</td>\n",
       "      <td>57</td>\n",
       "    </tr>\n",
       "    <tr>\n",
       "      <th>1</th>\n",
       "      <td>2022-01-09 09:57:00</td>\n",
       "      <td>1</td>\n",
       "      <td>28210</td>\n",
       "      <td>28212</td>\n",
       "      <td>28208</td>\n",
       "      <td>28211.0</td>\n",
       "      <td>152</td>\n",
       "      <td>0</td>\n",
       "      <td>57</td>\n",
       "    </tr>\n",
       "    <tr>\n",
       "      <th>2</th>\n",
       "      <td>2022-01-09 09:58:00</td>\n",
       "      <td>2</td>\n",
       "      <td>28209</td>\n",
       "      <td>28241</td>\n",
       "      <td>28198</td>\n",
       "      <td>28210.0</td>\n",
       "      <td>150</td>\n",
       "      <td>0</td>\n",
       "      <td>56</td>\n",
       "    </tr>\n",
       "    <tr>\n",
       "      <th>3</th>\n",
       "      <td>2022-01-09 09:59:00</td>\n",
       "      <td>3</td>\n",
       "      <td>28210</td>\n",
       "      <td>28232</td>\n",
       "      <td>28208</td>\n",
       "      <td>28229.0</td>\n",
       "      <td>150</td>\n",
       "      <td>0</td>\n",
       "      <td>56</td>\n",
       "    </tr>\n",
       "    <tr>\n",
       "      <th>4</th>\n",
       "      <td>2022-01-09 10:00:00</td>\n",
       "      <td>4</td>\n",
       "      <td>28231</td>\n",
       "      <td>28232</td>\n",
       "      <td>28208</td>\n",
       "      <td>28218.0</td>\n",
       "      <td>140</td>\n",
       "      <td>0</td>\n",
       "      <td>56</td>\n",
       "    </tr>\n",
       "  </tbody>\n",
       "</table>\n",
       "</div>"
      ],
      "text/plain": [
       "              Datetime  Unnamed: 0   OPEN   HIGH    LOW    CLOSE  TICKVOL  \\\n",
       "0  2022-01-09 09:56:00           0  28209  28212  28208      NaN       51   \n",
       "1  2022-01-09 09:57:00           1  28210  28212  28208  28211.0      152   \n",
       "2  2022-01-09 09:58:00           2  28209  28241  28198  28210.0      150   \n",
       "3  2022-01-09 09:59:00           3  28210  28232  28208  28229.0      150   \n",
       "4  2022-01-09 10:00:00           4  28231  28232  28208  28218.0      140   \n",
       "\n",
       "   VOL  SPREAD  \n",
       "0    0      57  \n",
       "1    0      57  \n",
       "2    0      56  \n",
       "3    0      56  \n",
       "4    0      56  "
      ]
     },
     "execution_count": 4,
     "metadata": {},
     "output_type": "execute_result"
    }
   ],
   "source": [
    "USDIRT.head()"
   ]
  },
  {
   "cell_type": "code",
   "execution_count": 5,
   "metadata": {},
   "outputs": [
    {
     "data": {
      "text/html": [
       "<div>\n",
       "<style scoped>\n",
       "    .dataframe tbody tr th:only-of-type {\n",
       "        vertical-align: middle;\n",
       "    }\n",
       "\n",
       "    .dataframe tbody tr th {\n",
       "        vertical-align: top;\n",
       "    }\n",
       "\n",
       "    .dataframe thead th {\n",
       "        text-align: right;\n",
       "    }\n",
       "</style>\n",
       "<table border=\"1\" class=\"dataframe\">\n",
       "  <thead>\n",
       "    <tr style=\"text-align: right;\">\n",
       "      <th></th>\n",
       "      <th>Datetime</th>\n",
       "      <th>Unnamed: 0</th>\n",
       "      <th>Open</th>\n",
       "      <th>Close</th>\n",
       "      <th>High</th>\n",
       "      <th>Low</th>\n",
       "      <th>Volume</th>\n",
       "    </tr>\n",
       "  </thead>\n",
       "  <tbody>\n",
       "    <tr>\n",
       "      <th>0</th>\n",
       "      <td>2022-01-09 09:56:00</td>\n",
       "      <td>0</td>\n",
       "      <td>28697.0</td>\n",
       "      <td>28697.0</td>\n",
       "      <td>28697.0</td>\n",
       "      <td>28697.0</td>\n",
       "      <td>308.73</td>\n",
       "    </tr>\n",
       "    <tr>\n",
       "      <th>1</th>\n",
       "      <td>2022-01-09 09:57:00</td>\n",
       "      <td>1</td>\n",
       "      <td>28697.0</td>\n",
       "      <td>28697.0</td>\n",
       "      <td>28697.0</td>\n",
       "      <td>28697.0</td>\n",
       "      <td>?</td>\n",
       "    </tr>\n",
       "    <tr>\n",
       "      <th>2</th>\n",
       "      <td>2022-01-09 09:58:00</td>\n",
       "      <td>2</td>\n",
       "      <td>28697.0</td>\n",
       "      <td>28697.0</td>\n",
       "      <td>28697.0</td>\n",
       "      <td>28697.0</td>\n",
       "      <td>0.0</td>\n",
       "    </tr>\n",
       "    <tr>\n",
       "      <th>3</th>\n",
       "      <td>2022-01-09 09:59:00</td>\n",
       "      <td>3</td>\n",
       "      <td>28697.0</td>\n",
       "      <td>28697.0</td>\n",
       "      <td>28697.0</td>\n",
       "      <td>28697.0</td>\n",
       "      <td>0.0</td>\n",
       "    </tr>\n",
       "    <tr>\n",
       "      <th>4</th>\n",
       "      <td>2022-01-09 10:00:00</td>\n",
       "      <td>4</td>\n",
       "      <td>28697.0</td>\n",
       "      <td>28697.0</td>\n",
       "      <td>28697.0</td>\n",
       "      <td>28697.0</td>\n",
       "      <td>0.0</td>\n",
       "    </tr>\n",
       "  </tbody>\n",
       "</table>\n",
       "</div>"
      ],
      "text/plain": [
       "              Datetime  Unnamed: 0     Open    Close     High      Low  Volume\n",
       "0  2022-01-09 09:56:00           0  28697.0  28697.0  28697.0  28697.0  308.73\n",
       "1  2022-01-09 09:57:00           1  28697.0  28697.0  28697.0  28697.0       ?\n",
       "2  2022-01-09 09:58:00           2  28697.0  28697.0  28697.0  28697.0     0.0\n",
       "3  2022-01-09 09:59:00           3  28697.0  28697.0  28697.0  28697.0     0.0\n",
       "4  2022-01-09 10:00:00           4  28697.0  28697.0  28697.0  28697.0     0.0"
      ]
     },
     "execution_count": 5,
     "metadata": {},
     "output_type": "execute_result"
    }
   ],
   "source": [
    "Wallex_USDIRT.head()"
   ]
  },
  {
   "cell_type": "code",
   "execution_count": 6,
   "metadata": {},
   "outputs": [
    {
     "data": {
      "text/html": [
       "<div>\n",
       "<style scoped>\n",
       "    .dataframe tbody tr th:only-of-type {\n",
       "        vertical-align: middle;\n",
       "    }\n",
       "\n",
       "    .dataframe tbody tr th {\n",
       "        vertical-align: top;\n",
       "    }\n",
       "\n",
       "    .dataframe thead th {\n",
       "        text-align: right;\n",
       "    }\n",
       "</style>\n",
       "<table border=\"1\" class=\"dataframe\">\n",
       "  <thead>\n",
       "    <tr style=\"text-align: right;\">\n",
       "      <th></th>\n",
       "      <th>Unnamed: 0</th>\n",
       "      <th>Open</th>\n",
       "      <th>High</th>\n",
       "      <th>Low</th>\n",
       "      <th>Close</th>\n",
       "    </tr>\n",
       "  </thead>\n",
       "  <tbody>\n",
       "    <tr>\n",
       "      <th>count</th>\n",
       "      <td>67206.000000</td>\n",
       "      <td>67206.000000</td>\n",
       "      <td>67206.000000</td>\n",
       "      <td>67206.000000</td>\n",
       "      <td>63846.000000</td>\n",
       "    </tr>\n",
       "    <tr>\n",
       "      <th>mean</th>\n",
       "      <td>33602.500000</td>\n",
       "      <td>33406.370502</td>\n",
       "      <td>33424.740652</td>\n",
       "      <td>33388.473725</td>\n",
       "      <td>33403.849831</td>\n",
       "    </tr>\n",
       "    <tr>\n",
       "      <th>std</th>\n",
       "      <td>19400.845433</td>\n",
       "      <td>8396.146912</td>\n",
       "      <td>8396.420894</td>\n",
       "      <td>8395.610786</td>\n",
       "      <td>8393.981104</td>\n",
       "    </tr>\n",
       "    <tr>\n",
       "      <th>min</th>\n",
       "      <td>0.000000</td>\n",
       "      <td>18054.160000</td>\n",
       "      <td>18116.550000</td>\n",
       "      <td>18054.150000</td>\n",
       "      <td>18101.070000</td>\n",
       "    </tr>\n",
       "    <tr>\n",
       "      <th>25%</th>\n",
       "      <td>16801.250000</td>\n",
       "      <td>28873.762500</td>\n",
       "      <td>28887.192500</td>\n",
       "      <td>28862.225000</td>\n",
       "      <td>28875.510000</td>\n",
       "    </tr>\n",
       "    <tr>\n",
       "      <th>50%</th>\n",
       "      <td>33602.500000</td>\n",
       "      <td>35822.775000</td>\n",
       "      <td>35840.005000</td>\n",
       "      <td>35809.155000</td>\n",
       "      <td>35816.200000</td>\n",
       "    </tr>\n",
       "    <tr>\n",
       "      <th>75%</th>\n",
       "      <td>50403.750000</td>\n",
       "      <td>40409.977500</td>\n",
       "      <td>40419.000000</td>\n",
       "      <td>40400.737500</td>\n",
       "      <td>40410.007500</td>\n",
       "    </tr>\n",
       "    <tr>\n",
       "      <th>max</th>\n",
       "      <td>67205.000000</td>\n",
       "      <td>48019.200000</td>\n",
       "      <td>48047.020000</td>\n",
       "      <td>47983.410000</td>\n",
       "      <td>48019.200000</td>\n",
       "    </tr>\n",
       "  </tbody>\n",
       "</table>\n",
       "</div>"
      ],
      "text/plain": [
       "         Unnamed: 0          Open          High           Low         Close\n",
       "count  67206.000000  67206.000000  67206.000000  67206.000000  63846.000000\n",
       "mean   33602.500000  33406.370502  33424.740652  33388.473725  33403.849831\n",
       "std    19400.845433   8396.146912   8396.420894   8395.610786   8393.981104\n",
       "min        0.000000  18054.160000  18116.550000  18054.150000  18101.070000\n",
       "25%    16801.250000  28873.762500  28887.192500  28862.225000  28875.510000\n",
       "50%    33602.500000  35822.775000  35840.005000  35809.155000  35816.200000\n",
       "75%    50403.750000  40409.977500  40419.000000  40400.737500  40410.007500\n",
       "max    67205.000000  48019.200000  48047.020000  47983.410000  48019.200000"
      ]
     },
     "execution_count": 6,
     "metadata": {},
     "output_type": "execute_result"
    }
   ],
   "source": [
    "BTCUSDT.describe()"
   ]
  },
  {
   "cell_type": "code",
   "execution_count": 7,
   "metadata": {},
   "outputs": [
    {
     "data": {
      "text/html": [
       "<div>\n",
       "<style scoped>\n",
       "    .dataframe tbody tr th:only-of-type {\n",
       "        vertical-align: middle;\n",
       "    }\n",
       "\n",
       "    .dataframe tbody tr th {\n",
       "        vertical-align: top;\n",
       "    }\n",
       "\n",
       "    .dataframe thead th {\n",
       "        text-align: right;\n",
       "    }\n",
       "</style>\n",
       "<table border=\"1\" class=\"dataframe\">\n",
       "  <thead>\n",
       "    <tr style=\"text-align: right;\">\n",
       "      <th></th>\n",
       "      <th>Unnamed: 0</th>\n",
       "      <th>OPEN</th>\n",
       "      <th>HIGH</th>\n",
       "      <th>LOW</th>\n",
       "      <th>CLOSE</th>\n",
       "      <th>TICKVOL</th>\n",
       "      <th>VOL</th>\n",
       "      <th>SPREAD</th>\n",
       "    </tr>\n",
       "  </thead>\n",
       "  <tbody>\n",
       "    <tr>\n",
       "      <th>count</th>\n",
       "      <td>67206.000000</td>\n",
       "      <td>67206.000000</td>\n",
       "      <td>67206.000000</td>\n",
       "      <td>67206.000000</td>\n",
       "      <td>63846.000000</td>\n",
       "      <td>67206.000000</td>\n",
       "      <td>67206.0</td>\n",
       "      <td>67206.000000</td>\n",
       "    </tr>\n",
       "    <tr>\n",
       "      <th>mean</th>\n",
       "      <td>33602.500000</td>\n",
       "      <td>29235.575574</td>\n",
       "      <td>29239.351591</td>\n",
       "      <td>29231.844716</td>\n",
       "      <td>29233.275334</td>\n",
       "      <td>123.614276</td>\n",
       "      <td>0.0</td>\n",
       "      <td>45.399890</td>\n",
       "    </tr>\n",
       "    <tr>\n",
       "      <th>std</th>\n",
       "      <td>19400.845433</td>\n",
       "      <td>2161.600073</td>\n",
       "      <td>2162.022402</td>\n",
       "      <td>2161.162397</td>\n",
       "      <td>2162.120462</td>\n",
       "      <td>29.780076</td>\n",
       "      <td>0.0</td>\n",
       "      <td>17.024015</td>\n",
       "    </tr>\n",
       "    <tr>\n",
       "      <th>min</th>\n",
       "      <td>0.000000</td>\n",
       "      <td>25428.000000</td>\n",
       "      <td>25430.000000</td>\n",
       "      <td>25418.000000</td>\n",
       "      <td>25428.000000</td>\n",
       "      <td>1.000000</td>\n",
       "      <td>0.0</td>\n",
       "      <td>28.000000</td>\n",
       "    </tr>\n",
       "    <tr>\n",
       "      <th>25%</th>\n",
       "      <td>16801.250000</td>\n",
       "      <td>27574.000000</td>\n",
       "      <td>27575.000000</td>\n",
       "      <td>27572.000000</td>\n",
       "      <td>27573.000000</td>\n",
       "      <td>119.000000</td>\n",
       "      <td>0.0</td>\n",
       "      <td>32.000000</td>\n",
       "    </tr>\n",
       "    <tr>\n",
       "      <th>50%</th>\n",
       "      <td>33602.500000</td>\n",
       "      <td>28394.000000</td>\n",
       "      <td>28402.000000</td>\n",
       "      <td>28392.000000</td>\n",
       "      <td>28393.000000</td>\n",
       "      <td>130.000000</td>\n",
       "      <td>0.0</td>\n",
       "      <td>40.000000</td>\n",
       "    </tr>\n",
       "    <tr>\n",
       "      <th>75%</th>\n",
       "      <td>50403.750000</td>\n",
       "      <td>31562.000000</td>\n",
       "      <td>31570.000000</td>\n",
       "      <td>31559.000000</td>\n",
       "      <td>31561.000000</td>\n",
       "      <td>143.000000</td>\n",
       "      <td>0.0</td>\n",
       "      <td>48.000000</td>\n",
       "    </tr>\n",
       "    <tr>\n",
       "      <th>max</th>\n",
       "      <td>67205.000000</td>\n",
       "      <td>33206.000000</td>\n",
       "      <td>33206.000000</td>\n",
       "      <td>33203.000000</td>\n",
       "      <td>33205.000000</td>\n",
       "      <td>171.000000</td>\n",
       "      <td>0.0</td>\n",
       "      <td>104.000000</td>\n",
       "    </tr>\n",
       "  </tbody>\n",
       "</table>\n",
       "</div>"
      ],
      "text/plain": [
       "         Unnamed: 0          OPEN          HIGH           LOW         CLOSE  \\\n",
       "count  67206.000000  67206.000000  67206.000000  67206.000000  63846.000000   \n",
       "mean   33602.500000  29235.575574  29239.351591  29231.844716  29233.275334   \n",
       "std    19400.845433   2161.600073   2162.022402   2161.162397   2162.120462   \n",
       "min        0.000000  25428.000000  25430.000000  25418.000000  25428.000000   \n",
       "25%    16801.250000  27574.000000  27575.000000  27572.000000  27573.000000   \n",
       "50%    33602.500000  28394.000000  28402.000000  28392.000000  28393.000000   \n",
       "75%    50403.750000  31562.000000  31570.000000  31559.000000  31561.000000   \n",
       "max    67205.000000  33206.000000  33206.000000  33203.000000  33205.000000   \n",
       "\n",
       "            TICKVOL      VOL        SPREAD  \n",
       "count  67206.000000  67206.0  67206.000000  \n",
       "mean     123.614276      0.0     45.399890  \n",
       "std       29.780076      0.0     17.024015  \n",
       "min        1.000000      0.0     28.000000  \n",
       "25%      119.000000      0.0     32.000000  \n",
       "50%      130.000000      0.0     40.000000  \n",
       "75%      143.000000      0.0     48.000000  \n",
       "max      171.000000      0.0    104.000000  "
      ]
     },
     "execution_count": 7,
     "metadata": {},
     "output_type": "execute_result"
    }
   ],
   "source": [
    "USDIRT.describe()"
   ]
  },
  {
   "cell_type": "code",
   "execution_count": 8,
   "metadata": {},
   "outputs": [
    {
     "data": {
      "text/html": [
       "<div>\n",
       "<style scoped>\n",
       "    .dataframe tbody tr th:only-of-type {\n",
       "        vertical-align: middle;\n",
       "    }\n",
       "\n",
       "    .dataframe tbody tr th {\n",
       "        vertical-align: top;\n",
       "    }\n",
       "\n",
       "    .dataframe thead th {\n",
       "        text-align: right;\n",
       "    }\n",
       "</style>\n",
       "<table border=\"1\" class=\"dataframe\">\n",
       "  <thead>\n",
       "    <tr style=\"text-align: right;\">\n",
       "      <th></th>\n",
       "      <th>Datetime</th>\n",
       "      <th>Unnamed: 0</th>\n",
       "      <th>Open</th>\n",
       "      <th>High</th>\n",
       "      <th>Low</th>\n",
       "      <th>Close</th>\n",
       "      <th>TICKVOL</th>\n",
       "      <th>VOL</th>\n",
       "      <th>SPREAD</th>\n",
       "    </tr>\n",
       "  </thead>\n",
       "  <tbody>\n",
       "    <tr>\n",
       "      <th>0</th>\n",
       "      <td>2022-01-09 09:56:00</td>\n",
       "      <td>0</td>\n",
       "      <td>28209</td>\n",
       "      <td>28212</td>\n",
       "      <td>28208</td>\n",
       "      <td>NaN</td>\n",
       "      <td>51</td>\n",
       "      <td>0</td>\n",
       "      <td>57</td>\n",
       "    </tr>\n",
       "    <tr>\n",
       "      <th>1</th>\n",
       "      <td>2022-01-09 09:57:00</td>\n",
       "      <td>1</td>\n",
       "      <td>28210</td>\n",
       "      <td>28212</td>\n",
       "      <td>28208</td>\n",
       "      <td>28211.0</td>\n",
       "      <td>152</td>\n",
       "      <td>0</td>\n",
       "      <td>57</td>\n",
       "    </tr>\n",
       "    <tr>\n",
       "      <th>2</th>\n",
       "      <td>2022-01-09 09:58:00</td>\n",
       "      <td>2</td>\n",
       "      <td>28209</td>\n",
       "      <td>28241</td>\n",
       "      <td>28198</td>\n",
       "      <td>28210.0</td>\n",
       "      <td>150</td>\n",
       "      <td>0</td>\n",
       "      <td>56</td>\n",
       "    </tr>\n",
       "    <tr>\n",
       "      <th>3</th>\n",
       "      <td>2022-01-09 09:59:00</td>\n",
       "      <td>3</td>\n",
       "      <td>28210</td>\n",
       "      <td>28232</td>\n",
       "      <td>28208</td>\n",
       "      <td>28229.0</td>\n",
       "      <td>150</td>\n",
       "      <td>0</td>\n",
       "      <td>56</td>\n",
       "    </tr>\n",
       "    <tr>\n",
       "      <th>4</th>\n",
       "      <td>2022-01-09 10:00:00</td>\n",
       "      <td>4</td>\n",
       "      <td>28231</td>\n",
       "      <td>28232</td>\n",
       "      <td>28208</td>\n",
       "      <td>28218.0</td>\n",
       "      <td>140</td>\n",
       "      <td>0</td>\n",
       "      <td>56</td>\n",
       "    </tr>\n",
       "  </tbody>\n",
       "</table>\n",
       "</div>"
      ],
      "text/plain": [
       "              Datetime  Unnamed: 0   Open   High    Low    Close  TICKVOL  \\\n",
       "0  2022-01-09 09:56:00           0  28209  28212  28208      NaN       51   \n",
       "1  2022-01-09 09:57:00           1  28210  28212  28208  28211.0      152   \n",
       "2  2022-01-09 09:58:00           2  28209  28241  28198  28210.0      150   \n",
       "3  2022-01-09 09:59:00           3  28210  28232  28208  28229.0      150   \n",
       "4  2022-01-09 10:00:00           4  28231  28232  28208  28218.0      140   \n",
       "\n",
       "   VOL  SPREAD  \n",
       "0    0      57  \n",
       "1    0      57  \n",
       "2    0      56  \n",
       "3    0      56  \n",
       "4    0      56  "
      ]
     },
     "execution_count": 8,
     "metadata": {},
     "output_type": "execute_result"
    }
   ],
   "source": [
    "USDIRT.rename(columns={'OPEN':'Open', 'HIGH':'High', 'CLOSE':'Close', 'LOW':'Low'}, inplace=True)\n",
    "USDIRT.head()"
   ]
  },
  {
   "cell_type": "code",
   "execution_count": 9,
   "metadata": {},
   "outputs": [
    {
     "data": {
      "text/html": [
       "<div>\n",
       "<style scoped>\n",
       "    .dataframe tbody tr th:only-of-type {\n",
       "        vertical-align: middle;\n",
       "    }\n",
       "\n",
       "    .dataframe tbody tr th {\n",
       "        vertical-align: top;\n",
       "    }\n",
       "\n",
       "    .dataframe thead th {\n",
       "        text-align: right;\n",
       "    }\n",
       "</style>\n",
       "<table border=\"1\" class=\"dataframe\">\n",
       "  <thead>\n",
       "    <tr style=\"text-align: right;\">\n",
       "      <th></th>\n",
       "      <th>Unnamed: 0</th>\n",
       "      <th>Open</th>\n",
       "      <th>Close</th>\n",
       "      <th>High</th>\n",
       "      <th>Low</th>\n",
       "    </tr>\n",
       "  </thead>\n",
       "  <tbody>\n",
       "    <tr>\n",
       "      <th>count</th>\n",
       "      <td>67206.000000</td>\n",
       "      <td>67206.000000</td>\n",
       "      <td>67206.000000</td>\n",
       "      <td>67206.000000</td>\n",
       "      <td>67206.000000</td>\n",
       "    </tr>\n",
       "    <tr>\n",
       "      <th>mean</th>\n",
       "      <td>33602.500000</td>\n",
       "      <td>29514.923726</td>\n",
       "      <td>29515.144549</td>\n",
       "      <td>29525.188359</td>\n",
       "      <td>29504.490051</td>\n",
       "    </tr>\n",
       "    <tr>\n",
       "      <th>std</th>\n",
       "      <td>19400.845433</td>\n",
       "      <td>2330.254658</td>\n",
       "      <td>2330.226523</td>\n",
       "      <td>2331.952992</td>\n",
       "      <td>2328.196683</td>\n",
       "    </tr>\n",
       "    <tr>\n",
       "      <th>min</th>\n",
       "      <td>0.000000</td>\n",
       "      <td>25483.000000</td>\n",
       "      <td>25480.000000</td>\n",
       "      <td>25483.000000</td>\n",
       "      <td>25480.000000</td>\n",
       "    </tr>\n",
       "    <tr>\n",
       "      <th>25%</th>\n",
       "      <td>16801.250000</td>\n",
       "      <td>27744.000000</td>\n",
       "      <td>27742.250000</td>\n",
       "      <td>27750.000000</td>\n",
       "      <td>27736.000000</td>\n",
       "    </tr>\n",
       "    <tr>\n",
       "      <th>50%</th>\n",
       "      <td>33602.500000</td>\n",
       "      <td>29030.000000</td>\n",
       "      <td>29029.500000</td>\n",
       "      <td>29036.000000</td>\n",
       "      <td>29023.000000</td>\n",
       "    </tr>\n",
       "    <tr>\n",
       "      <th>75%</th>\n",
       "      <td>50403.750000</td>\n",
       "      <td>31899.000000</td>\n",
       "      <td>31900.000000</td>\n",
       "      <td>31905.000000</td>\n",
       "      <td>31890.000000</td>\n",
       "    </tr>\n",
       "    <tr>\n",
       "      <th>max</th>\n",
       "      <td>67205.000000</td>\n",
       "      <td>34088.000000</td>\n",
       "      <td>34069.000000</td>\n",
       "      <td>34088.000000</td>\n",
       "      <td>34069.000000</td>\n",
       "    </tr>\n",
       "  </tbody>\n",
       "</table>\n",
       "</div>"
      ],
      "text/plain": [
       "         Unnamed: 0          Open         Close          High           Low\n",
       "count  67206.000000  67206.000000  67206.000000  67206.000000  67206.000000\n",
       "mean   33602.500000  29514.923726  29515.144549  29525.188359  29504.490051\n",
       "std    19400.845433   2330.254658   2330.226523   2331.952992   2328.196683\n",
       "min        0.000000  25483.000000  25480.000000  25483.000000  25480.000000\n",
       "25%    16801.250000  27744.000000  27742.250000  27750.000000  27736.000000\n",
       "50%    33602.500000  29030.000000  29029.500000  29036.000000  29023.000000\n",
       "75%    50403.750000  31899.000000  31900.000000  31905.000000  31890.000000\n",
       "max    67205.000000  34088.000000  34069.000000  34088.000000  34069.000000"
      ]
     },
     "execution_count": 9,
     "metadata": {},
     "output_type": "execute_result"
    }
   ],
   "source": [
    "Wallex_USDIRT.describe()"
   ]
  },
  {
   "cell_type": "code",
   "execution_count": 10,
   "metadata": {},
   "outputs": [
    {
     "name": "stdout",
     "output_type": "stream",
     "text": [
      "<class 'pandas.core.frame.DataFrame'>\n",
      "RangeIndex: 67206 entries, 0 to 67205\n",
      "Data columns (total 6 columns):\n",
      " #   Column      Non-Null Count  Dtype  \n",
      "---  ------      --------------  -----  \n",
      " 0   Datetime    67206 non-null  object \n",
      " 1   Unnamed: 0  67206 non-null  int64  \n",
      " 2   Open        67206 non-null  float64\n",
      " 3   High        67206 non-null  float64\n",
      " 4   Low         67206 non-null  float64\n",
      " 5   Close       63846 non-null  float64\n",
      "dtypes: float64(4), int64(1), object(1)\n",
      "memory usage: 3.1+ MB\n"
     ]
    }
   ],
   "source": [
    "BTCUSDT.info()"
   ]
  },
  {
   "cell_type": "code",
   "execution_count": 11,
   "metadata": {},
   "outputs": [
    {
     "name": "stdout",
     "output_type": "stream",
     "text": [
      "<class 'pandas.core.frame.DataFrame'>\n",
      "RangeIndex: 67206 entries, 0 to 67205\n",
      "Data columns (total 9 columns):\n",
      " #   Column      Non-Null Count  Dtype  \n",
      "---  ------      --------------  -----  \n",
      " 0   Datetime    67206 non-null  object \n",
      " 1   Unnamed: 0  67206 non-null  int64  \n",
      " 2   Open        67206 non-null  int64  \n",
      " 3   High        67206 non-null  int64  \n",
      " 4   Low         67206 non-null  int64  \n",
      " 5   Close       63846 non-null  float64\n",
      " 6   TICKVOL     67206 non-null  int64  \n",
      " 7   VOL         67206 non-null  int64  \n",
      " 8   SPREAD      67206 non-null  int64  \n",
      "dtypes: float64(1), int64(7), object(1)\n",
      "memory usage: 4.6+ MB\n"
     ]
    }
   ],
   "source": [
    "USDIRT.info()"
   ]
  },
  {
   "cell_type": "code",
   "execution_count": 12,
   "metadata": {},
   "outputs": [
    {
     "name": "stdout",
     "output_type": "stream",
     "text": [
      "<class 'pandas.core.frame.DataFrame'>\n",
      "RangeIndex: 67206 entries, 0 to 67205\n",
      "Data columns (total 7 columns):\n",
      " #   Column      Non-Null Count  Dtype  \n",
      "---  ------      --------------  -----  \n",
      " 0   Datetime    67206 non-null  object \n",
      " 1   Unnamed: 0  67206 non-null  int64  \n",
      " 2   Open        67206 non-null  float64\n",
      " 3   Close       67206 non-null  float64\n",
      " 4   High        67206 non-null  float64\n",
      " 5   Low         67206 non-null  float64\n",
      " 6   Volume      67206 non-null  object \n",
      "dtypes: float64(4), int64(1), object(2)\n",
      "memory usage: 3.6+ MB\n"
     ]
    }
   ],
   "source": [
    "Wallex_USDIRT.info()"
   ]
  },
  {
   "cell_type": "code",
   "execution_count": 13,
   "metadata": {},
   "outputs": [
    {
     "data": {
      "text/plain": [
       "Datetime         0\n",
       "Unnamed: 0       0\n",
       "Open             0\n",
       "High             0\n",
       "Low              0\n",
       "Close         3360\n",
       "dtype: int64"
      ]
     },
     "execution_count": 13,
     "metadata": {},
     "output_type": "execute_result"
    }
   ],
   "source": [
    "BTCUSDT.isnull().sum()"
   ]
  },
  {
   "cell_type": "code",
   "execution_count": 14,
   "metadata": {},
   "outputs": [
    {
     "data": {
      "text/plain": [
       "Datetime         0\n",
       "Unnamed: 0       0\n",
       "Open             0\n",
       "High             0\n",
       "Low              0\n",
       "Close         3360\n",
       "TICKVOL          0\n",
       "VOL              0\n",
       "SPREAD           0\n",
       "dtype: int64"
      ]
     },
     "execution_count": 14,
     "metadata": {},
     "output_type": "execute_result"
    }
   ],
   "source": [
    "USDIRT.isnull().sum()"
   ]
  },
  {
   "cell_type": "code",
   "execution_count": 15,
   "metadata": {},
   "outputs": [
    {
     "data": {
      "text/plain": [
       "Datetime      0\n",
       "Unnamed: 0    0\n",
       "Open          0\n",
       "Close         0\n",
       "High          0\n",
       "Low           0\n",
       "Volume        0\n",
       "dtype: int64"
      ]
     },
     "execution_count": 15,
     "metadata": {},
     "output_type": "execute_result"
    }
   ],
   "source": [
    "Wallex_USDIRT.isnull().sum()"
   ]
  },
  {
   "cell_type": "markdown",
   "metadata": {},
   "source": [
    "<h3>Cleaning data</h3>"
   ]
  },
  {
   "cell_type": "markdown",
   "metadata": {},
   "source": [
    "<p>removing 'Unnamed: 0' column from each table </p>"
   ]
  },
  {
   "cell_type": "code",
   "execution_count": 16,
   "metadata": {},
   "outputs": [],
   "source": [
    "BTCUSDT.drop(columns='Unnamed: 0', inplace=True)\n",
    "USDIRT.drop(columns='Unnamed: 0', inplace=True)\n",
    "Wallex_USDIRT.drop(columns='Unnamed: 0', inplace=True)"
   ]
  },
  {
   "cell_type": "markdown",
   "metadata": {},
   "source": [
    "<p>Filling each missing data with mean<p>"
   ]
  },
  {
   "cell_type": "code",
   "execution_count": 17,
   "metadata": {},
   "outputs": [
    {
     "data": {
      "text/plain": [
       "Datetime    0\n",
       "Open        0\n",
       "High        0\n",
       "Low         0\n",
       "Close       0\n",
       "dtype: int64"
      ]
     },
     "execution_count": 17,
     "metadata": {},
     "output_type": "execute_result"
    }
   ],
   "source": [
    "BTCUSDT['Close'].fillna(BTCUSDT['Close'].mean(), inplace=True)\n",
    "BTCUSDT.isnull().sum()"
   ]
  },
  {
   "cell_type": "code",
   "execution_count": 18,
   "metadata": {},
   "outputs": [
    {
     "data": {
      "text/plain": [
       "Datetime    0\n",
       "Open        0\n",
       "High        0\n",
       "Low         0\n",
       "Close       0\n",
       "TICKVOL     0\n",
       "SPREAD      0\n",
       "dtype: int64"
      ]
     },
     "execution_count": 18,
     "metadata": {},
     "output_type": "execute_result"
    }
   ],
   "source": [
    "USDIRT.drop(columns='VOL', inplace=True)\n",
    "USDIRT['Close'].fillna(USDIRT['Close'].mean(), inplace=True)\n",
    "USDIRT.isnull().sum()"
   ]
  },
  {
   "cell_type": "code",
   "execution_count": 19,
   "metadata": {},
   "outputs": [
    {
     "data": {
      "text/plain": [
       "0         308.73000\n",
       "1        1034.75943\n",
       "2           0.00000\n",
       "3           0.00000\n",
       "4           0.00000\n",
       "            ...    \n",
       "67201     206.61000\n",
       "67202     207.04000\n",
       "67203      40.79000\n",
       "67204    1034.75943\n",
       "67205      69.64000\n",
       "Name: Volume, Length: 67206, dtype: float64"
      ]
     },
     "execution_count": 19,
     "metadata": {},
     "output_type": "execute_result"
    }
   ],
   "source": [
    "Wallex_USDIRT['Volume'].replace({'?': np.NAN}, inplace=True)\n",
    "Wallex_USDIRT['Volume'] = Wallex_USDIRT['Volume'].astype(float)\n",
    "Wallex_USDIRT['Volume'].fillna(Wallex_USDIRT['Volume'].mean(), inplace=True)\n",
    "Wallex_USDIRT['Volume']"
   ]
  },
  {
   "cell_type": "markdown",
   "metadata": {},
   "source": [
    "<h3>Creating data frame</h3>"
   ]
  },
  {
   "cell_type": "code",
   "execution_count": 20,
   "metadata": {},
   "outputs": [
    {
     "data": {
      "text/html": [
       "<div>\n",
       "<style scoped>\n",
       "    .dataframe tbody tr th:only-of-type {\n",
       "        vertical-align: middle;\n",
       "    }\n",
       "\n",
       "    .dataframe tbody tr th {\n",
       "        vertical-align: top;\n",
       "    }\n",
       "\n",
       "    .dataframe thead th {\n",
       "        text-align: right;\n",
       "    }\n",
       "</style>\n",
       "<table border=\"1\" class=\"dataframe\">\n",
       "  <thead>\n",
       "    <tr style=\"text-align: right;\">\n",
       "      <th></th>\n",
       "      <th>BTCUSDT_CCI</th>\n",
       "      <th>USDIRT_CCI</th>\n",
       "      <th>Wallex_USDIRT_CCI</th>\n",
       "      <th>BTCUSDT_RSI</th>\n",
       "      <th>USDIRT_RSI</th>\n",
       "      <th>Wallex_USDIRT_RSI</th>\n",
       "      <th>BTCUSDT_MACD</th>\n",
       "      <th>USDIRT_MACD</th>\n",
       "      <th>Wallex_USDIRT_MACD</th>\n",
       "      <th>Wallex_USDIRT_Avg_Volume_hour</th>\n",
       "      <th>Wallex_USDIRT_return</th>\n",
       "      <th>Tether/Dollar_close</th>\n",
       "      <th>Tether-Dollar/Tether_close</th>\n",
       "      <th>label</th>\n",
       "    </tr>\n",
       "  </thead>\n",
       "  <tbody>\n",
       "  </tbody>\n",
       "</table>\n",
       "</div>"
      ],
      "text/plain": [
       "Empty DataFrame\n",
       "Columns: [BTCUSDT_CCI, USDIRT_CCI, Wallex_USDIRT_CCI, BTCUSDT_RSI, USDIRT_RSI, Wallex_USDIRT_RSI, BTCUSDT_MACD, USDIRT_MACD, Wallex_USDIRT_MACD, Wallex_USDIRT_Avg_Volume_hour, Wallex_USDIRT_return, Tether/Dollar_close, Tether-Dollar/Tether_close, label]\n",
       "Index: []"
      ]
     },
     "execution_count": 20,
     "metadata": {},
     "output_type": "execute_result"
    }
   ],
   "source": [
    "features = pd.DataFrame(columns=['BTCUSDT_CCI', 'USDIRT_CCI', 'Wallex_USDIRT_CCI','BTCUSDT_RSI', 'USDIRT_RSI',\n",
    "                            'Wallex_USDIRT_RSI','BTCUSDT_MACD', 'USDIRT_MACD', 'Wallex_USDIRT_MACD',\n",
    "                            'Wallex_USDIRT_Avg_Volume_hour', 'Wallex_USDIRT_return','Tether/Dollar_close','Tether-Dollar/Tether_close','label' ])\n",
    "features"
   ]
  },
  {
   "cell_type": "markdown",
   "metadata": {},
   "source": [
    "<h3>Making Features</h3>"
   ]
  },
  {
   "cell_type": "code",
   "execution_count": 21,
   "metadata": {},
   "outputs": [
    {
     "data": {
      "text/html": [
       "<div>\n",
       "<style scoped>\n",
       "    .dataframe tbody tr th:only-of-type {\n",
       "        vertical-align: middle;\n",
       "    }\n",
       "\n",
       "    .dataframe tbody tr th {\n",
       "        vertical-align: top;\n",
       "    }\n",
       "\n",
       "    .dataframe thead th {\n",
       "        text-align: right;\n",
       "    }\n",
       "</style>\n",
       "<table border=\"1\" class=\"dataframe\">\n",
       "  <thead>\n",
       "    <tr style=\"text-align: right;\">\n",
       "      <th></th>\n",
       "      <th>TP</th>\n",
       "      <th>sma</th>\n",
       "      <th>mad</th>\n",
       "    </tr>\n",
       "  </thead>\n",
       "  <tbody>\n",
       "  </tbody>\n",
       "</table>\n",
       "</div>"
      ],
      "text/plain": [
       "Empty DataFrame\n",
       "Columns: [TP, sma, mad]\n",
       "Index: []"
      ]
     },
     "execution_count": 21,
     "metadata": {},
     "output_type": "execute_result"
    }
   ],
   "source": [
    "df = pd.DataFrame(columns=['TP', 'sma', 'mad'])\n",
    "df"
   ]
  },
  {
   "cell_type": "markdown",
   "metadata": {},
   "source": [
    "<b><h4>1.CCI</h4></b>"
   ]
  },
  {
   "cell_type": "code",
   "execution_count": 22,
   "metadata": {},
   "outputs": [],
   "source": [
    "def CCI(table, column):\n",
    "    df['TP'] = (table['High'] + table['Low'] + table['Close']) / 3 \n",
    "    df['sma'] = df['TP'].rolling(20).mean()\n",
    "    df['mad'] = df['TP'].rolling(20).apply(lambda x: pd.Series(x).mad())\n",
    "    features[column] = (df['TP'] - df['sma']) / (0.015 * df['mad'])\n",
    "    features[column].fillna(features[column].mean(), inplace=True)"
   ]
  },
  {
   "cell_type": "code",
   "execution_count": 23,
   "metadata": {},
   "outputs": [],
   "source": [
    "CCI(BTCUSDT, 'BTCUSDT_CCI')\n",
    "CCI(USDIRT, 'USDIRT_CCI')\n",
    "CCI(Wallex_USDIRT, 'Wallex_USDIRT_CCI')"
   ]
  },
  {
   "cell_type": "markdown",
   "metadata": {},
   "source": [
    "<b><h4>2.RSI</h4></b>"
   ]
  },
  {
   "cell_type": "code",
   "execution_count": 24,
   "metadata": {},
   "outputs": [],
   "source": [
    "def RSI(table, column):\n",
    "    features[column] = ta.RSI(table['Close'], timeperiod=20)\n",
    "    features[column].fillna(features[column].mean(), inplace=True)"
   ]
  },
  {
   "cell_type": "code",
   "execution_count": 25,
   "metadata": {},
   "outputs": [],
   "source": [
    "RSI(BTCUSDT, 'BTCUSDT_RSI')\n",
    "RSI(USDIRT, 'USDIRT_RSI')\n",
    "RSI(Wallex_USDIRT, 'Wallex_USDIRT_RSI')"
   ]
  },
  {
   "cell_type": "markdown",
   "metadata": {},
   "source": [
    "<b><h4>3.MACD</h4><b>"
   ]
  },
  {
   "cell_type": "code",
   "execution_count": 26,
   "metadata": {},
   "outputs": [],
   "source": [
    "def MACD(table, column):\n",
    "    k = table['Close'].ewm(span=12, adjust=False, min_periods=12).mean()\n",
    "    d = table['Close'].ewm(span=26, adjust=False, min_periods=26).mean()\n",
    "    macd = k - d\n",
    "    features[column] = table.index.map(macd)\n",
    "    features[column].fillna(features[column].mean(), inplace=True)"
   ]
  },
  {
   "cell_type": "code",
   "execution_count": 27,
   "metadata": {},
   "outputs": [],
   "source": [
    "MACD(BTCUSDT, 'BTCUSDT_MACD')\n",
    "MACD(USDIRT, 'USDIRT_MACD')\n",
    "MACD(Wallex_USDIRT, 'Wallex_USDIRT_MACD')"
   ]
  },
  {
   "cell_type": "markdown",
   "metadata": {},
   "source": [
    "<b><h4>4.The average volume of Tether transactions in the past hour</h4><b>"
   ]
  },
  {
   "cell_type": "code",
   "execution_count": 28,
   "metadata": {},
   "outputs": [],
   "source": [
    "features['Wallex_USDIRT_Avg_Volume_hour'] = Wallex_USDIRT['Volume'].rolling(61).mean()\n",
    "features['Wallex_USDIRT_Avg_Volume_hour'].fillna(features['Wallex_USDIRT_Avg_Volume_hour'].mean(), inplace=True)"
   ]
  },
  {
   "cell_type": "markdown",
   "metadata": {},
   "source": [
    "<b><h4>5.Tether's return in a min</h4><b>"
   ]
  },
  {
   "cell_type": "code",
   "execution_count": 29,
   "metadata": {},
   "outputs": [
    {
     "data": {
      "text/plain": [
       "0          0.0\n",
       "1          0.0\n",
       "2          0.0\n",
       "3          0.0\n",
       "4          0.0\n",
       "         ...  \n",
       "67201     10.0\n",
       "67202    101.0\n",
       "67203      1.0\n",
       "67204      0.0\n",
       "67205      0.0\n",
       "Name: Wallex_USDIRT_return, Length: 67206, dtype: float64"
      ]
     },
     "execution_count": 29,
     "metadata": {},
     "output_type": "execute_result"
    }
   ],
   "source": [
    "features['Wallex_USDIRT_return'] = Wallex_USDIRT['Close'] - Wallex_USDIRT['Open']\n",
    "features['Wallex_USDIRT_return']"
   ]
  },
  {
   "cell_type": "markdown",
   "metadata": {},
   "source": [
    "<b><h4>6.Tether/Dollar_close</h4><b>"
   ]
  },
  {
   "cell_type": "code",
   "execution_count": 30,
   "metadata": {},
   "outputs": [
    {
     "data": {
      "text/plain": [
       "0        0.981655\n",
       "1        1.017227\n",
       "2        1.017263\n",
       "3        1.016579\n",
       "4        1.016975\n",
       "           ...   \n",
       "67201    1.017758\n",
       "67202    1.017308\n",
       "67203    1.017467\n",
       "67204    1.017404\n",
       "67205    1.017498\n",
       "Name: Tether/Dollar_close, Length: 67206, dtype: float64"
      ]
     },
     "execution_count": 30,
     "metadata": {},
     "output_type": "execute_result"
    }
   ],
   "source": [
    "features['Tether/Dollar_close'] = Wallex_USDIRT['Close'] / USDIRT['Close']\n",
    "features['Tether/Dollar_close']"
   ]
  },
  {
   "cell_type": "markdown",
   "metadata": {},
   "source": [
    "<b><h4>7.Tether-Dollar/Tether_close</h4><b>"
   ]
  },
  {
   "cell_type": "code",
   "execution_count": 31,
   "metadata": {},
   "outputs": [
    {
     "data": {
      "text/plain": [
       "0       -0.018688\n",
       "1        0.016936\n",
       "2        0.016970\n",
       "3        0.016308\n",
       "4        0.016692\n",
       "           ...   \n",
       "67201    0.017448\n",
       "67202    0.017013\n",
       "67203    0.017168\n",
       "67204    0.017106\n",
       "67205    0.017197\n",
       "Name: Tether-Dollar/Tether_close, Length: 67206, dtype: float64"
      ]
     },
     "execution_count": 31,
     "metadata": {},
     "output_type": "execute_result"
    }
   ],
   "source": [
    "features['Tether-Dollar/Tether_close'] = ( Wallex_USDIRT['Close'] - USDIRT['Close'] ) / Wallex_USDIRT['Close']\n",
    "features['Tether-Dollar/Tether_close']"
   ]
  },
  {
   "cell_type": "code",
   "execution_count": 32,
   "metadata": {},
   "outputs": [
    {
     "data": {
      "text/html": [
       "<div>\n",
       "<style scoped>\n",
       "    .dataframe tbody tr th:only-of-type {\n",
       "        vertical-align: middle;\n",
       "    }\n",
       "\n",
       "    .dataframe tbody tr th {\n",
       "        vertical-align: top;\n",
       "    }\n",
       "\n",
       "    .dataframe thead th {\n",
       "        text-align: right;\n",
       "    }\n",
       "</style>\n",
       "<table border=\"1\" class=\"dataframe\">\n",
       "  <thead>\n",
       "    <tr style=\"text-align: right;\">\n",
       "      <th></th>\n",
       "      <th>BTCUSDT_CCI</th>\n",
       "      <th>USDIRT_CCI</th>\n",
       "      <th>Wallex_USDIRT_CCI</th>\n",
       "      <th>BTCUSDT_RSI</th>\n",
       "      <th>USDIRT_RSI</th>\n",
       "      <th>Wallex_USDIRT_RSI</th>\n",
       "      <th>BTCUSDT_MACD</th>\n",
       "      <th>USDIRT_MACD</th>\n",
       "      <th>Wallex_USDIRT_MACD</th>\n",
       "      <th>Wallex_USDIRT_Avg_Volume_hour</th>\n",
       "      <th>Wallex_USDIRT_return</th>\n",
       "      <th>Tether/Dollar_close</th>\n",
       "      <th>Tether-Dollar/Tether_close</th>\n",
       "      <th>label</th>\n",
       "    </tr>\n",
       "  </thead>\n",
       "  <tbody>\n",
       "    <tr>\n",
       "      <th>0</th>\n",
       "      <td>0.252693</td>\n",
       "      <td>0.136802</td>\n",
       "      <td>2.004805</td>\n",
       "      <td>49.957650</td>\n",
       "      <td>50.036012</td>\n",
       "      <td>50.210725</td>\n",
       "      <td>-1.796192</td>\n",
       "      <td>0.332879</td>\n",
       "      <td>0.403455</td>\n",
       "      <td>1035.051217</td>\n",
       "      <td>0.0</td>\n",
       "      <td>0.981655</td>\n",
       "      <td>-0.018688</td>\n",
       "      <td>NaN</td>\n",
       "    </tr>\n",
       "    <tr>\n",
       "      <th>1</th>\n",
       "      <td>0.252693</td>\n",
       "      <td>0.136802</td>\n",
       "      <td>2.004805</td>\n",
       "      <td>49.957650</td>\n",
       "      <td>50.036012</td>\n",
       "      <td>50.210725</td>\n",
       "      <td>-1.796192</td>\n",
       "      <td>0.332879</td>\n",
       "      <td>0.403455</td>\n",
       "      <td>1035.051217</td>\n",
       "      <td>0.0</td>\n",
       "      <td>1.017227</td>\n",
       "      <td>0.016936</td>\n",
       "      <td>NaN</td>\n",
       "    </tr>\n",
       "    <tr>\n",
       "      <th>2</th>\n",
       "      <td>0.252693</td>\n",
       "      <td>0.136802</td>\n",
       "      <td>2.004805</td>\n",
       "      <td>49.957650</td>\n",
       "      <td>50.036012</td>\n",
       "      <td>50.210725</td>\n",
       "      <td>-1.796192</td>\n",
       "      <td>0.332879</td>\n",
       "      <td>0.403455</td>\n",
       "      <td>1035.051217</td>\n",
       "      <td>0.0</td>\n",
       "      <td>1.017263</td>\n",
       "      <td>0.016970</td>\n",
       "      <td>NaN</td>\n",
       "    </tr>\n",
       "    <tr>\n",
       "      <th>3</th>\n",
       "      <td>0.252693</td>\n",
       "      <td>0.136802</td>\n",
       "      <td>2.004805</td>\n",
       "      <td>49.957650</td>\n",
       "      <td>50.036012</td>\n",
       "      <td>50.210725</td>\n",
       "      <td>-1.796192</td>\n",
       "      <td>0.332879</td>\n",
       "      <td>0.403455</td>\n",
       "      <td>1035.051217</td>\n",
       "      <td>0.0</td>\n",
       "      <td>1.016579</td>\n",
       "      <td>0.016308</td>\n",
       "      <td>NaN</td>\n",
       "    </tr>\n",
       "    <tr>\n",
       "      <th>4</th>\n",
       "      <td>0.252693</td>\n",
       "      <td>0.136802</td>\n",
       "      <td>2.004805</td>\n",
       "      <td>49.957650</td>\n",
       "      <td>50.036012</td>\n",
       "      <td>50.210725</td>\n",
       "      <td>-1.796192</td>\n",
       "      <td>0.332879</td>\n",
       "      <td>0.403455</td>\n",
       "      <td>1035.051217</td>\n",
       "      <td>0.0</td>\n",
       "      <td>1.016975</td>\n",
       "      <td>0.016692</td>\n",
       "      <td>NaN</td>\n",
       "    </tr>\n",
       "    <tr>\n",
       "      <th>...</th>\n",
       "      <td>...</td>\n",
       "      <td>...</td>\n",
       "      <td>...</td>\n",
       "      <td>...</td>\n",
       "      <td>...</td>\n",
       "      <td>...</td>\n",
       "      <td>...</td>\n",
       "      <td>...</td>\n",
       "      <td>...</td>\n",
       "      <td>...</td>\n",
       "      <td>...</td>\n",
       "      <td>...</td>\n",
       "      <td>...</td>\n",
       "      <td>...</td>\n",
       "    </tr>\n",
       "    <tr>\n",
       "      <th>67201</th>\n",
       "      <td>-41.516339</td>\n",
       "      <td>18.613823</td>\n",
       "      <td>77.028571</td>\n",
       "      <td>48.573481</td>\n",
       "      <td>51.087224</td>\n",
       "      <td>53.914708</td>\n",
       "      <td>435.721738</td>\n",
       "      <td>58.823113</td>\n",
       "      <td>7.939929</td>\n",
       "      <td>826.976557</td>\n",
       "      <td>10.0</td>\n",
       "      <td>1.017758</td>\n",
       "      <td>0.017448</td>\n",
       "      <td>NaN</td>\n",
       "    </tr>\n",
       "    <tr>\n",
       "      <th>67202</th>\n",
       "      <td>-41.349695</td>\n",
       "      <td>30.077834</td>\n",
       "      <td>15.712682</td>\n",
       "      <td>48.581501</td>\n",
       "      <td>51.259577</td>\n",
       "      <td>54.343479</td>\n",
       "      <td>267.844002</td>\n",
       "      <td>59.775254</td>\n",
       "      <td>10.595143</td>\n",
       "      <td>822.417213</td>\n",
       "      <td>101.0</td>\n",
       "      <td>1.017308</td>\n",
       "      <td>0.017013</td>\n",
       "      <td>NaN</td>\n",
       "    </tr>\n",
       "    <tr>\n",
       "      <th>67203</th>\n",
       "      <td>-40.948825</td>\n",
       "      <td>34.893726</td>\n",
       "      <td>90.924342</td>\n",
       "      <td>48.588552</td>\n",
       "      <td>51.212089</td>\n",
       "      <td>54.343479</td>\n",
       "      <td>133.648009</td>\n",
       "      <td>59.441174</td>\n",
       "      <td>12.554698</td>\n",
       "      <td>813.953115</td>\n",
       "      <td>1.0</td>\n",
       "      <td>1.017467</td>\n",
       "      <td>0.017168</td>\n",
       "      <td>NaN</td>\n",
       "    </tr>\n",
       "    <tr>\n",
       "      <th>67204</th>\n",
       "      <td>-40.979371</td>\n",
       "      <td>35.989133</td>\n",
       "      <td>86.350662</td>\n",
       "      <td>48.577133</td>\n",
       "      <td>51.231112</td>\n",
       "      <td>54.343479</td>\n",
       "      <td>26.359433</td>\n",
       "      <td>58.661581</td>\n",
       "      <td>13.946887</td>\n",
       "      <td>807.394253</td>\n",
       "      <td>0.0</td>\n",
       "      <td>1.017404</td>\n",
       "      <td>0.017106</td>\n",
       "      <td>NaN</td>\n",
       "    </tr>\n",
       "    <tr>\n",
       "      <th>67205</th>\n",
       "      <td>-40.903632</td>\n",
       "      <td>36.183999</td>\n",
       "      <td>84.495488</td>\n",
       "      <td>48.579742</td>\n",
       "      <td>51.220601</td>\n",
       "      <td>54.508032</td>\n",
       "      <td>-57.870528</td>\n",
       "      <td>57.302510</td>\n",
       "      <td>15.038240</td>\n",
       "      <td>806.710319</td>\n",
       "      <td>0.0</td>\n",
       "      <td>1.017498</td>\n",
       "      <td>0.017197</td>\n",
       "      <td>NaN</td>\n",
       "    </tr>\n",
       "  </tbody>\n",
       "</table>\n",
       "<p>67206 rows × 14 columns</p>\n",
       "</div>"
      ],
      "text/plain": [
       "       BTCUSDT_CCI  USDIRT_CCI  Wallex_USDIRT_CCI  BTCUSDT_RSI  USDIRT_RSI  \\\n",
       "0         0.252693    0.136802           2.004805    49.957650   50.036012   \n",
       "1         0.252693    0.136802           2.004805    49.957650   50.036012   \n",
       "2         0.252693    0.136802           2.004805    49.957650   50.036012   \n",
       "3         0.252693    0.136802           2.004805    49.957650   50.036012   \n",
       "4         0.252693    0.136802           2.004805    49.957650   50.036012   \n",
       "...            ...         ...                ...          ...         ...   \n",
       "67201   -41.516339   18.613823          77.028571    48.573481   51.087224   \n",
       "67202   -41.349695   30.077834          15.712682    48.581501   51.259577   \n",
       "67203   -40.948825   34.893726          90.924342    48.588552   51.212089   \n",
       "67204   -40.979371   35.989133          86.350662    48.577133   51.231112   \n",
       "67205   -40.903632   36.183999          84.495488    48.579742   51.220601   \n",
       "\n",
       "       Wallex_USDIRT_RSI  BTCUSDT_MACD  USDIRT_MACD  Wallex_USDIRT_MACD  \\\n",
       "0              50.210725     -1.796192     0.332879            0.403455   \n",
       "1              50.210725     -1.796192     0.332879            0.403455   \n",
       "2              50.210725     -1.796192     0.332879            0.403455   \n",
       "3              50.210725     -1.796192     0.332879            0.403455   \n",
       "4              50.210725     -1.796192     0.332879            0.403455   \n",
       "...                  ...           ...          ...                 ...   \n",
       "67201          53.914708    435.721738    58.823113            7.939929   \n",
       "67202          54.343479    267.844002    59.775254           10.595143   \n",
       "67203          54.343479    133.648009    59.441174           12.554698   \n",
       "67204          54.343479     26.359433    58.661581           13.946887   \n",
       "67205          54.508032    -57.870528    57.302510           15.038240   \n",
       "\n",
       "       Wallex_USDIRT_Avg_Volume_hour  Wallex_USDIRT_return  \\\n",
       "0                        1035.051217                   0.0   \n",
       "1                        1035.051217                   0.0   \n",
       "2                        1035.051217                   0.0   \n",
       "3                        1035.051217                   0.0   \n",
       "4                        1035.051217                   0.0   \n",
       "...                              ...                   ...   \n",
       "67201                     826.976557                  10.0   \n",
       "67202                     822.417213                 101.0   \n",
       "67203                     813.953115                   1.0   \n",
       "67204                     807.394253                   0.0   \n",
       "67205                     806.710319                   0.0   \n",
       "\n",
       "       Tether/Dollar_close  Tether-Dollar/Tether_close label  \n",
       "0                 0.981655                   -0.018688   NaN  \n",
       "1                 1.017227                    0.016936   NaN  \n",
       "2                 1.017263                    0.016970   NaN  \n",
       "3                 1.016579                    0.016308   NaN  \n",
       "4                 1.016975                    0.016692   NaN  \n",
       "...                    ...                         ...   ...  \n",
       "67201             1.017758                    0.017448   NaN  \n",
       "67202             1.017308                    0.017013   NaN  \n",
       "67203             1.017467                    0.017168   NaN  \n",
       "67204             1.017404                    0.017106   NaN  \n",
       "67205             1.017498                    0.017197   NaN  \n",
       "\n",
       "[67206 rows x 14 columns]"
      ]
     },
     "execution_count": 32,
     "metadata": {},
     "output_type": "execute_result"
    }
   ],
   "source": [
    "features"
   ]
  },
  {
   "cell_type": "markdown",
   "metadata": {},
   "source": [
    "<h3>Making Labels</h3>"
   ]
  },
  {
   "cell_type": "code",
   "execution_count": 33,
   "metadata": {},
   "outputs": [],
   "source": [
    "label = []\n",
    "for i in range(0, Wallex_USDIRT.shape[0] - 1):\n",
    "    if Wallex_USDIRT.loc[i, 'Close'] < Wallex_USDIRT.loc[i + 1, 'Close']:\n",
    "        label.append('1')\n",
    "    else:\n",
    "        label.append('0')\n",
    "label.append('0')\n",
    "features['label'] = label"
   ]
  },
  {
   "cell_type": "markdown",
   "metadata": {},
   "source": [
    "<h3>Resampling</h3>"
   ]
  },
  {
   "cell_type": "code",
   "execution_count": 34,
   "metadata": {},
   "outputs": [],
   "source": [
    "label_z = features[features['label'] == '0']\n",
    "label_o = features[features['label'] == '1']"
   ]
  },
  {
   "cell_type": "code",
   "execution_count": 35,
   "metadata": {},
   "outputs": [],
   "source": [
    "label_o_upsampled = label_o.sample(n=len(label_z), replace=True ,  random_state=42)"
   ]
  },
  {
   "cell_type": "code",
   "execution_count": 36,
   "metadata": {},
   "outputs": [
    {
     "data": {
      "text/html": [
       "<div>\n",
       "<style scoped>\n",
       "    .dataframe tbody tr th:only-of-type {\n",
       "        vertical-align: middle;\n",
       "    }\n",
       "\n",
       "    .dataframe tbody tr th {\n",
       "        vertical-align: top;\n",
       "    }\n",
       "\n",
       "    .dataframe thead th {\n",
       "        text-align: right;\n",
       "    }\n",
       "</style>\n",
       "<table border=\"1\" class=\"dataframe\">\n",
       "  <thead>\n",
       "    <tr style=\"text-align: right;\">\n",
       "      <th></th>\n",
       "      <th>BTCUSDT_CCI</th>\n",
       "      <th>USDIRT_CCI</th>\n",
       "      <th>Wallex_USDIRT_CCI</th>\n",
       "      <th>BTCUSDT_RSI</th>\n",
       "      <th>USDIRT_RSI</th>\n",
       "      <th>Wallex_USDIRT_RSI</th>\n",
       "      <th>BTCUSDT_MACD</th>\n",
       "      <th>USDIRT_MACD</th>\n",
       "      <th>Wallex_USDIRT_MACD</th>\n",
       "      <th>Wallex_USDIRT_Avg_Volume_hour</th>\n",
       "      <th>Wallex_USDIRT_return</th>\n",
       "      <th>Tether/Dollar_close</th>\n",
       "      <th>Tether-Dollar/Tether_close</th>\n",
       "      <th>label</th>\n",
       "    </tr>\n",
       "  </thead>\n",
       "  <tbody>\n",
       "    <tr>\n",
       "      <th>0</th>\n",
       "      <td>0.252693</td>\n",
       "      <td>0.136802</td>\n",
       "      <td>2.004805</td>\n",
       "      <td>49.957650</td>\n",
       "      <td>50.036012</td>\n",
       "      <td>50.210725</td>\n",
       "      <td>-1.796192</td>\n",
       "      <td>0.332879</td>\n",
       "      <td>0.403455</td>\n",
       "      <td>1035.051217</td>\n",
       "      <td>0.0</td>\n",
       "      <td>0.981655</td>\n",
       "      <td>-0.018688</td>\n",
       "      <td>0</td>\n",
       "    </tr>\n",
       "    <tr>\n",
       "      <th>1</th>\n",
       "      <td>0.252693</td>\n",
       "      <td>0.136802</td>\n",
       "      <td>2.004805</td>\n",
       "      <td>49.957650</td>\n",
       "      <td>50.036012</td>\n",
       "      <td>50.210725</td>\n",
       "      <td>-1.796192</td>\n",
       "      <td>0.332879</td>\n",
       "      <td>0.403455</td>\n",
       "      <td>1035.051217</td>\n",
       "      <td>0.0</td>\n",
       "      <td>1.017227</td>\n",
       "      <td>0.016936</td>\n",
       "      <td>0</td>\n",
       "    </tr>\n",
       "    <tr>\n",
       "      <th>2</th>\n",
       "      <td>0.252693</td>\n",
       "      <td>0.136802</td>\n",
       "      <td>2.004805</td>\n",
       "      <td>49.957650</td>\n",
       "      <td>50.036012</td>\n",
       "      <td>50.210725</td>\n",
       "      <td>-1.796192</td>\n",
       "      <td>0.332879</td>\n",
       "      <td>0.403455</td>\n",
       "      <td>1035.051217</td>\n",
       "      <td>0.0</td>\n",
       "      <td>1.017263</td>\n",
       "      <td>0.016970</td>\n",
       "      <td>0</td>\n",
       "    </tr>\n",
       "    <tr>\n",
       "      <th>3</th>\n",
       "      <td>0.252693</td>\n",
       "      <td>0.136802</td>\n",
       "      <td>2.004805</td>\n",
       "      <td>49.957650</td>\n",
       "      <td>50.036012</td>\n",
       "      <td>50.210725</td>\n",
       "      <td>-1.796192</td>\n",
       "      <td>0.332879</td>\n",
       "      <td>0.403455</td>\n",
       "      <td>1035.051217</td>\n",
       "      <td>0.0</td>\n",
       "      <td>1.016579</td>\n",
       "      <td>0.016308</td>\n",
       "      <td>0</td>\n",
       "    </tr>\n",
       "    <tr>\n",
       "      <th>4</th>\n",
       "      <td>0.252693</td>\n",
       "      <td>0.136802</td>\n",
       "      <td>2.004805</td>\n",
       "      <td>49.957650</td>\n",
       "      <td>50.036012</td>\n",
       "      <td>50.210725</td>\n",
       "      <td>-1.796192</td>\n",
       "      <td>0.332879</td>\n",
       "      <td>0.403455</td>\n",
       "      <td>1035.051217</td>\n",
       "      <td>0.0</td>\n",
       "      <td>1.016975</td>\n",
       "      <td>0.016692</td>\n",
       "      <td>0</td>\n",
       "    </tr>\n",
       "    <tr>\n",
       "      <th>...</th>\n",
       "      <td>...</td>\n",
       "      <td>...</td>\n",
       "      <td>...</td>\n",
       "      <td>...</td>\n",
       "      <td>...</td>\n",
       "      <td>...</td>\n",
       "      <td>...</td>\n",
       "      <td>...</td>\n",
       "      <td>...</td>\n",
       "      <td>...</td>\n",
       "      <td>...</td>\n",
       "      <td>...</td>\n",
       "      <td>...</td>\n",
       "      <td>...</td>\n",
       "    </tr>\n",
       "    <tr>\n",
       "      <th>88115</th>\n",
       "      <td>21.012081</td>\n",
       "      <td>-8.691705</td>\n",
       "      <td>122.383846</td>\n",
       "      <td>51.647272</td>\n",
       "      <td>49.138322</td>\n",
       "      <td>58.631005</td>\n",
       "      <td>156.556259</td>\n",
       "      <td>-24.127891</td>\n",
       "      <td>17.172694</td>\n",
       "      <td>1326.371466</td>\n",
       "      <td>2.0</td>\n",
       "      <td>0.999664</td>\n",
       "      <td>-0.000336</td>\n",
       "      <td>1</td>\n",
       "    </tr>\n",
       "    <tr>\n",
       "      <th>88116</th>\n",
       "      <td>-10.202486</td>\n",
       "      <td>-71.301644</td>\n",
       "      <td>-41.889917</td>\n",
       "      <td>49.863325</td>\n",
       "      <td>47.744788</td>\n",
       "      <td>38.778466</td>\n",
       "      <td>210.245488</td>\n",
       "      <td>-22.299057</td>\n",
       "      <td>-38.496608</td>\n",
       "      <td>980.002112</td>\n",
       "      <td>0.0</td>\n",
       "      <td>1.019366</td>\n",
       "      <td>0.018998</td>\n",
       "      <td>1</td>\n",
       "    </tr>\n",
       "    <tr>\n",
       "      <th>88117</th>\n",
       "      <td>50.018852</td>\n",
       "      <td>-141.238671</td>\n",
       "      <td>-213.095922</td>\n",
       "      <td>52.207592</td>\n",
       "      <td>49.080810</td>\n",
       "      <td>38.142870</td>\n",
       "      <td>86.785697</td>\n",
       "      <td>-6.725983</td>\n",
       "      <td>-31.205131</td>\n",
       "      <td>558.529480</td>\n",
       "      <td>0.0</td>\n",
       "      <td>1.001305</td>\n",
       "      <td>0.001303</td>\n",
       "      <td>1</td>\n",
       "    </tr>\n",
       "    <tr>\n",
       "      <th>88118</th>\n",
       "      <td>27.240615</td>\n",
       "      <td>26.548266</td>\n",
       "      <td>-143.055280</td>\n",
       "      <td>49.786612</td>\n",
       "      <td>51.147751</td>\n",
       "      <td>39.265608</td>\n",
       "      <td>39.625054</td>\n",
       "      <td>-91.999467</td>\n",
       "      <td>-11.970129</td>\n",
       "      <td>925.152768</td>\n",
       "      <td>-17.0</td>\n",
       "      <td>0.997017</td>\n",
       "      <td>-0.002992</td>\n",
       "      <td>1</td>\n",
       "    </tr>\n",
       "    <tr>\n",
       "      <th>88119</th>\n",
       "      <td>-43.772259</td>\n",
       "      <td>53.887606</td>\n",
       "      <td>-303.875969</td>\n",
       "      <td>51.093155</td>\n",
       "      <td>48.617145</td>\n",
       "      <td>37.023857</td>\n",
       "      <td>114.467086</td>\n",
       "      <td>-6.250398</td>\n",
       "      <td>1.112351</td>\n",
       "      <td>413.193105</td>\n",
       "      <td>-10.0</td>\n",
       "      <td>0.995813</td>\n",
       "      <td>-0.004205</td>\n",
       "      <td>1</td>\n",
       "    </tr>\n",
       "  </tbody>\n",
       "</table>\n",
       "<p>88120 rows × 14 columns</p>\n",
       "</div>"
      ],
      "text/plain": [
       "       BTCUSDT_CCI  USDIRT_CCI  Wallex_USDIRT_CCI  BTCUSDT_RSI  USDIRT_RSI  \\\n",
       "0         0.252693    0.136802           2.004805    49.957650   50.036012   \n",
       "1         0.252693    0.136802           2.004805    49.957650   50.036012   \n",
       "2         0.252693    0.136802           2.004805    49.957650   50.036012   \n",
       "3         0.252693    0.136802           2.004805    49.957650   50.036012   \n",
       "4         0.252693    0.136802           2.004805    49.957650   50.036012   \n",
       "...            ...         ...                ...          ...         ...   \n",
       "88115    21.012081   -8.691705         122.383846    51.647272   49.138322   \n",
       "88116   -10.202486  -71.301644         -41.889917    49.863325   47.744788   \n",
       "88117    50.018852 -141.238671        -213.095922    52.207592   49.080810   \n",
       "88118    27.240615   26.548266        -143.055280    49.786612   51.147751   \n",
       "88119   -43.772259   53.887606        -303.875969    51.093155   48.617145   \n",
       "\n",
       "       Wallex_USDIRT_RSI  BTCUSDT_MACD  USDIRT_MACD  Wallex_USDIRT_MACD  \\\n",
       "0              50.210725     -1.796192     0.332879            0.403455   \n",
       "1              50.210725     -1.796192     0.332879            0.403455   \n",
       "2              50.210725     -1.796192     0.332879            0.403455   \n",
       "3              50.210725     -1.796192     0.332879            0.403455   \n",
       "4              50.210725     -1.796192     0.332879            0.403455   \n",
       "...                  ...           ...          ...                 ...   \n",
       "88115          58.631005    156.556259   -24.127891           17.172694   \n",
       "88116          38.778466    210.245488   -22.299057          -38.496608   \n",
       "88117          38.142870     86.785697    -6.725983          -31.205131   \n",
       "88118          39.265608     39.625054   -91.999467          -11.970129   \n",
       "88119          37.023857    114.467086    -6.250398            1.112351   \n",
       "\n",
       "       Wallex_USDIRT_Avg_Volume_hour  Wallex_USDIRT_return  \\\n",
       "0                        1035.051217                   0.0   \n",
       "1                        1035.051217                   0.0   \n",
       "2                        1035.051217                   0.0   \n",
       "3                        1035.051217                   0.0   \n",
       "4                        1035.051217                   0.0   \n",
       "...                              ...                   ...   \n",
       "88115                    1326.371466                   2.0   \n",
       "88116                     980.002112                   0.0   \n",
       "88117                     558.529480                   0.0   \n",
       "88118                     925.152768                 -17.0   \n",
       "88119                     413.193105                 -10.0   \n",
       "\n",
       "       Tether/Dollar_close  Tether-Dollar/Tether_close label  \n",
       "0                 0.981655                   -0.018688     0  \n",
       "1                 1.017227                    0.016936     0  \n",
       "2                 1.017263                    0.016970     0  \n",
       "3                 1.016579                    0.016308     0  \n",
       "4                 1.016975                    0.016692     0  \n",
       "...                    ...                         ...   ...  \n",
       "88115             0.999664                   -0.000336     1  \n",
       "88116             1.019366                    0.018998     1  \n",
       "88117             1.001305                    0.001303     1  \n",
       "88118             0.997017                   -0.002992     1  \n",
       "88119             0.995813                   -0.004205     1  \n",
       "\n",
       "[88120 rows x 14 columns]"
      ]
     },
     "execution_count": 36,
     "metadata": {},
     "output_type": "execute_result"
    }
   ],
   "source": [
    "data_upsampled = pd.concat([label_z, label_o_upsampled])\n",
    "data_upsampled.reset_index(drop=True, inplace=True)\n",
    "data_upsampled"
   ]
  },
  {
   "cell_type": "code",
   "execution_count": 37,
   "metadata": {},
   "outputs": [
    {
     "data": {
      "text/html": [
       "<div>\n",
       "<style scoped>\n",
       "    .dataframe tbody tr th:only-of-type {\n",
       "        vertical-align: middle;\n",
       "    }\n",
       "\n",
       "    .dataframe tbody tr th {\n",
       "        vertical-align: top;\n",
       "    }\n",
       "\n",
       "    .dataframe thead th {\n",
       "        text-align: right;\n",
       "    }\n",
       "</style>\n",
       "<table border=\"1\" class=\"dataframe\">\n",
       "  <thead>\n",
       "    <tr style=\"text-align: right;\">\n",
       "      <th></th>\n",
       "      <th>BTCUSDT_CCI</th>\n",
       "      <th>USDIRT_CCI</th>\n",
       "      <th>Wallex_USDIRT_CCI</th>\n",
       "      <th>BTCUSDT_RSI</th>\n",
       "      <th>USDIRT_RSI</th>\n",
       "      <th>Wallex_USDIRT_RSI</th>\n",
       "      <th>BTCUSDT_MACD</th>\n",
       "      <th>USDIRT_MACD</th>\n",
       "      <th>Wallex_USDIRT_MACD</th>\n",
       "      <th>Wallex_USDIRT_Avg_Volume_hour</th>\n",
       "      <th>Wallex_USDIRT_return</th>\n",
       "      <th>Tether/Dollar_close</th>\n",
       "      <th>Tether-Dollar/Tether_close</th>\n",
       "      <th>label</th>\n",
       "    </tr>\n",
       "  </thead>\n",
       "  <tbody>\n",
       "    <tr>\n",
       "      <th>0</th>\n",
       "      <td>-30.433935</td>\n",
       "      <td>33.470833</td>\n",
       "      <td>30.839002</td>\n",
       "      <td>48.829822</td>\n",
       "      <td>51.149557</td>\n",
       "      <td>52.587936</td>\n",
       "      <td>-224.750504</td>\n",
       "      <td>61.730238</td>\n",
       "      <td>-1.914280</td>\n",
       "      <td>848.537358</td>\n",
       "      <td>87.0</td>\n",
       "      <td>1.012176</td>\n",
       "      <td>0.012030</td>\n",
       "      <td>0</td>\n",
       "    </tr>\n",
       "    <tr>\n",
       "      <th>1</th>\n",
       "      <td>-37.785282</td>\n",
       "      <td>72.332326</td>\n",
       "      <td>94.316443</td>\n",
       "      <td>48.257480</td>\n",
       "      <td>55.712026</td>\n",
       "      <td>65.639597</td>\n",
       "      <td>-467.995076</td>\n",
       "      <td>77.416644</td>\n",
       "      <td>53.604659</td>\n",
       "      <td>754.979490</td>\n",
       "      <td>0.0</td>\n",
       "      <td>1.010890</td>\n",
       "      <td>0.010773</td>\n",
       "      <td>0</td>\n",
       "    </tr>\n",
       "    <tr>\n",
       "      <th>2</th>\n",
       "      <td>105.275459</td>\n",
       "      <td>-42.553191</td>\n",
       "      <td>72.124756</td>\n",
       "      <td>51.340059</td>\n",
       "      <td>48.784788</td>\n",
       "      <td>49.511595</td>\n",
       "      <td>40.167613</td>\n",
       "      <td>-32.022492</td>\n",
       "      <td>1.077380</td>\n",
       "      <td>644.965710</td>\n",
       "      <td>-11.0</td>\n",
       "      <td>0.996354</td>\n",
       "      <td>-0.003660</td>\n",
       "      <td>0</td>\n",
       "    </tr>\n",
       "    <tr>\n",
       "      <th>3</th>\n",
       "      <td>-90.680869</td>\n",
       "      <td>44.581742</td>\n",
       "      <td>213.668061</td>\n",
       "      <td>48.400133</td>\n",
       "      <td>51.456617</td>\n",
       "      <td>59.528241</td>\n",
       "      <td>-38.966598</td>\n",
       "      <td>-87.078546</td>\n",
       "      <td>3.438470</td>\n",
       "      <td>748.582750</td>\n",
       "      <td>1.0</td>\n",
       "      <td>1.001430</td>\n",
       "      <td>0.001428</td>\n",
       "      <td>1</td>\n",
       "    </tr>\n",
       "    <tr>\n",
       "      <th>4</th>\n",
       "      <td>-115.376381</td>\n",
       "      <td>-319.334125</td>\n",
       "      <td>75.357050</td>\n",
       "      <td>47.950879</td>\n",
       "      <td>39.038687</td>\n",
       "      <td>51.965857</td>\n",
       "      <td>-125.060754</td>\n",
       "      <td>-44.042447</td>\n",
       "      <td>10.162833</td>\n",
       "      <td>3987.114033</td>\n",
       "      <td>7.0</td>\n",
       "      <td>1.084381</td>\n",
       "      <td>0.077815</td>\n",
       "      <td>1</td>\n",
       "    </tr>\n",
       "    <tr>\n",
       "      <th>...</th>\n",
       "      <td>...</td>\n",
       "      <td>...</td>\n",
       "      <td>...</td>\n",
       "      <td>...</td>\n",
       "      <td>...</td>\n",
       "      <td>...</td>\n",
       "      <td>...</td>\n",
       "      <td>...</td>\n",
       "      <td>...</td>\n",
       "      <td>...</td>\n",
       "      <td>...</td>\n",
       "      <td>...</td>\n",
       "      <td>...</td>\n",
       "      <td>...</td>\n",
       "    </tr>\n",
       "    <tr>\n",
       "      <th>88115</th>\n",
       "      <td>38.202101</td>\n",
       "      <td>6.469238</td>\n",
       "      <td>19.223431</td>\n",
       "      <td>51.367495</td>\n",
       "      <td>49.461434</td>\n",
       "      <td>51.283619</td>\n",
       "      <td>-250.366735</td>\n",
       "      <td>-4.171027</td>\n",
       "      <td>-2.648667</td>\n",
       "      <td>1155.302614</td>\n",
       "      <td>0.0</td>\n",
       "      <td>0.994508</td>\n",
       "      <td>-0.005522</td>\n",
       "      <td>0</td>\n",
       "    </tr>\n",
       "    <tr>\n",
       "      <th>88116</th>\n",
       "      <td>27.384000</td>\n",
       "      <td>-137.131614</td>\n",
       "      <td>-31.731709</td>\n",
       "      <td>51.018146</td>\n",
       "      <td>47.954546</td>\n",
       "      <td>49.048525</td>\n",
       "      <td>107.220036</td>\n",
       "      <td>-26.770554</td>\n",
       "      <td>-0.312086</td>\n",
       "      <td>1249.525391</td>\n",
       "      <td>0.0</td>\n",
       "      <td>0.999275</td>\n",
       "      <td>-0.000725</td>\n",
       "      <td>1</td>\n",
       "    </tr>\n",
       "    <tr>\n",
       "      <th>88117</th>\n",
       "      <td>63.562755</td>\n",
       "      <td>363.540011</td>\n",
       "      <td>-66.921050</td>\n",
       "      <td>51.760455</td>\n",
       "      <td>52.933400</td>\n",
       "      <td>42.640841</td>\n",
       "      <td>320.128616</td>\n",
       "      <td>2.923626</td>\n",
       "      <td>-19.502695</td>\n",
       "      <td>665.034881</td>\n",
       "      <td>0.0</td>\n",
       "      <td>0.995485</td>\n",
       "      <td>-0.004536</td>\n",
       "      <td>1</td>\n",
       "    </tr>\n",
       "    <tr>\n",
       "      <th>88118</th>\n",
       "      <td>-43.102028</td>\n",
       "      <td>-36.430484</td>\n",
       "      <td>58.041838</td>\n",
       "      <td>48.726482</td>\n",
       "      <td>48.003338</td>\n",
       "      <td>54.389610</td>\n",
       "      <td>-32.699030</td>\n",
       "      <td>61.903864</td>\n",
       "      <td>37.380920</td>\n",
       "      <td>1753.221766</td>\n",
       "      <td>-16.0</td>\n",
       "      <td>1.020464</td>\n",
       "      <td>0.020054</td>\n",
       "      <td>0</td>\n",
       "    </tr>\n",
       "    <tr>\n",
       "      <th>88119</th>\n",
       "      <td>46.536345</td>\n",
       "      <td>-105.391324</td>\n",
       "      <td>76.881893</td>\n",
       "      <td>51.655561</td>\n",
       "      <td>46.431926</td>\n",
       "      <td>53.071094</td>\n",
       "      <td>239.415707</td>\n",
       "      <td>-34.034266</td>\n",
       "      <td>-5.838976</td>\n",
       "      <td>989.299963</td>\n",
       "      <td>0.0</td>\n",
       "      <td>0.998239</td>\n",
       "      <td>-0.001764</td>\n",
       "      <td>0</td>\n",
       "    </tr>\n",
       "  </tbody>\n",
       "</table>\n",
       "<p>88120 rows × 14 columns</p>\n",
       "</div>"
      ],
      "text/plain": [
       "       BTCUSDT_CCI  USDIRT_CCI  Wallex_USDIRT_CCI  BTCUSDT_RSI  USDIRT_RSI  \\\n",
       "0       -30.433935   33.470833          30.839002    48.829822   51.149557   \n",
       "1       -37.785282   72.332326          94.316443    48.257480   55.712026   \n",
       "2       105.275459  -42.553191          72.124756    51.340059   48.784788   \n",
       "3       -90.680869   44.581742         213.668061    48.400133   51.456617   \n",
       "4      -115.376381 -319.334125          75.357050    47.950879   39.038687   \n",
       "...            ...         ...                ...          ...         ...   \n",
       "88115    38.202101    6.469238          19.223431    51.367495   49.461434   \n",
       "88116    27.384000 -137.131614         -31.731709    51.018146   47.954546   \n",
       "88117    63.562755  363.540011         -66.921050    51.760455   52.933400   \n",
       "88118   -43.102028  -36.430484          58.041838    48.726482   48.003338   \n",
       "88119    46.536345 -105.391324          76.881893    51.655561   46.431926   \n",
       "\n",
       "       Wallex_USDIRT_RSI  BTCUSDT_MACD  USDIRT_MACD  Wallex_USDIRT_MACD  \\\n",
       "0              52.587936   -224.750504    61.730238           -1.914280   \n",
       "1              65.639597   -467.995076    77.416644           53.604659   \n",
       "2              49.511595     40.167613   -32.022492            1.077380   \n",
       "3              59.528241    -38.966598   -87.078546            3.438470   \n",
       "4              51.965857   -125.060754   -44.042447           10.162833   \n",
       "...                  ...           ...          ...                 ...   \n",
       "88115          51.283619   -250.366735    -4.171027           -2.648667   \n",
       "88116          49.048525    107.220036   -26.770554           -0.312086   \n",
       "88117          42.640841    320.128616     2.923626          -19.502695   \n",
       "88118          54.389610    -32.699030    61.903864           37.380920   \n",
       "88119          53.071094    239.415707   -34.034266           -5.838976   \n",
       "\n",
       "       Wallex_USDIRT_Avg_Volume_hour  Wallex_USDIRT_return  \\\n",
       "0                         848.537358                  87.0   \n",
       "1                         754.979490                   0.0   \n",
       "2                         644.965710                 -11.0   \n",
       "3                         748.582750                   1.0   \n",
       "4                        3987.114033                   7.0   \n",
       "...                              ...                   ...   \n",
       "88115                    1155.302614                   0.0   \n",
       "88116                    1249.525391                   0.0   \n",
       "88117                     665.034881                   0.0   \n",
       "88118                    1753.221766                 -16.0   \n",
       "88119                     989.299963                   0.0   \n",
       "\n",
       "       Tether/Dollar_close  Tether-Dollar/Tether_close label  \n",
       "0                 1.012176                    0.012030     0  \n",
       "1                 1.010890                    0.010773     0  \n",
       "2                 0.996354                   -0.003660     0  \n",
       "3                 1.001430                    0.001428     1  \n",
       "4                 1.084381                    0.077815     1  \n",
       "...                    ...                         ...   ...  \n",
       "88115             0.994508                   -0.005522     0  \n",
       "88116             0.999275                   -0.000725     1  \n",
       "88117             0.995485                   -0.004536     1  \n",
       "88118             1.020464                    0.020054     0  \n",
       "88119             0.998239                   -0.001764     0  \n",
       "\n",
       "[88120 rows x 14 columns]"
      ]
     },
     "execution_count": 37,
     "metadata": {},
     "output_type": "execute_result"
    }
   ],
   "source": [
    "ndata = data_upsampled.sample(frac=1 , random_state=42)\n",
    "ndata.reset_index(drop=True, inplace=True)\n",
    "ndata"
   ]
  },
  {
   "cell_type": "code",
   "execution_count": 38,
   "metadata": {},
   "outputs": [
    {
     "data": {
      "text/plain": [
       "0    44060\n",
       "1    44060\n",
       "Name: label, dtype: int64"
      ]
     },
     "execution_count": 38,
     "metadata": {},
     "output_type": "execute_result"
    }
   ],
   "source": [
    "ndata['label'].value_counts()"
   ]
  },
  {
   "cell_type": "code",
   "execution_count": 39,
   "metadata": {},
   "outputs": [],
   "source": [
    "X = ndata.drop(columns=['label'])\n",
    "y = ndata['label']"
   ]
  },
  {
   "cell_type": "code",
   "execution_count": 40,
   "metadata": {},
   "outputs": [
    {
     "data": {
      "application/vnd.plotly.v1+json": {
       "config": {
        "plotlyServerURL": "https://plot.ly"
       },
       "data": [
        {
         "coloraxis": "coloraxis",
         "hovertemplate": "x: %{x}<br>y: %{y}<br>color: %{z}<extra></extra>",
         "name": "0",
         "type": "heatmap",
         "x": [
          "BTCUSDT_CCI",
          "USDIRT_CCI",
          "Wallex_USDIRT_CCI",
          "BTCUSDT_RSI",
          "USDIRT_RSI",
          "Wallex_USDIRT_RSI",
          "BTCUSDT_MACD",
          "USDIRT_MACD",
          "Wallex_USDIRT_MACD",
          "Wallex_USDIRT_Avg_Volume_hour",
          "Wallex_USDIRT_return",
          "Tether/Dollar_close",
          "Tether-Dollar/Tether_close"
         ],
         "xaxis": "x",
         "y": [
          "BTCUSDT_CCI",
          "USDIRT_CCI",
          "Wallex_USDIRT_CCI",
          "BTCUSDT_RSI",
          "USDIRT_RSI",
          "Wallex_USDIRT_RSI",
          "BTCUSDT_MACD",
          "USDIRT_MACD",
          "Wallex_USDIRT_MACD",
          "Wallex_USDIRT_Avg_Volume_hour",
          "Wallex_USDIRT_return",
          "Tether/Dollar_close",
          "Tether-Dollar/Tether_close"
         ],
         "yaxis": "y",
         "z": [
          [
           1,
           0.0035228230219348134,
           -0.13433569986485686,
           0.8289285730385376,
           -0.002973123095263979,
           -0.128519312984093,
           0.4221624406460885,
           -0.009294380023405005,
           -0.10306920457856653,
           0.01462287367048145,
           -0.02250578046069657,
           -0.015640584381710305,
           -0.015026094643935752
          ],
          [
           0.0035228230219348134,
           1,
           0.0035885821344473503,
           -0.001045315925275444,
           0.8211371026581307,
           0.00980903720852694,
           0.010392813385692213,
           0.4362432331130046,
           0.0137449352218308,
           0.00512468658488472,
           -0.0031800769333675503,
           -0.5424965557861905,
           -0.5415660536070096
          ],
          [
           -0.13433569986485686,
           0.0035885821344473503,
           1,
           -0.059161536777674224,
           0.0121966063634793,
           0.7683140680979276,
           -0.05336628603883544,
           0.009249343843178619,
           0.41522211302761136,
           -0.030420597625978707,
           0.2231179343212367,
           0.021142886082617517,
           0.020877644718120373
          ],
          [
           0.8289285730385376,
           -0.001045315925275444,
           -0.059161536777674224,
           1,
           -0.0039048613543461873,
           -0.09474173533879471,
           0.5080102954260268,
           -0.008392298686105956,
           -0.11404345341840175,
           0.010950301779547644,
           -0.008971963408645445,
           -0.03432062437851426,
           -0.033780075083943026
          ],
          [
           -0.002973123095263979,
           0.8211371026581307,
           0.0121966063634793,
           -0.0039048613543461873,
           1,
           0.025281574115134865,
           0.0012929238270085622,
           0.5199594631654658,
           0.03461313992201585,
           0.009121979676702242,
           0.0005861162068654801,
           -0.5973016625915143,
           -0.5964308255490067
          ],
          [
           -0.128519312984093,
           0.00980903720852694,
           0.7683140680979276,
           -0.09474173533879471,
           0.025281574115134865,
           1,
           -0.09582492097660156,
           0.019570998019812772,
           0.7366809683096018,
           -0.032584784910004744,
           0.28066581357242126,
           0.060207334911424014,
           0.05961259034985511
          ],
          [
           0.4221624406460885,
           0.010392813385692213,
           -0.05336628603883544,
           0.5080102954260268,
           0.0012929238270085622,
           -0.09582492097660156,
           1,
           0.006353085614048308,
           -0.13755315523802725,
           -0.0015160640005628778,
           -0.00907698192872791,
           -0.027388992199050992,
           -0.026774999529419516
          ],
          [
           -0.009294380023405005,
           0.4362432331130046,
           0.009249343843178619,
           -0.008392298686105956,
           0.5199594631654658,
           0.019570998019812772,
           0.006353085614048308,
           1,
           0.034180872913219515,
           0.00627137006011639,
           -0.000634639396660136,
           -0.4781406027405143,
           -0.4773383255913327
          ],
          [
           -0.10306920457856653,
           0.0137449352218308,
           0.41522211302761136,
           -0.11404345341840175,
           0.03461313992201585,
           0.7366809683096018,
           -0.13755315523802725,
           0.034180872913219515,
           1,
           -0.04857058828200329,
           0.06524208267496162,
           0.07381857107297582,
           0.07240598748874542
          ],
          [
           0.01462287367048145,
           0.00512468658488472,
           -0.030420597625978707,
           0.010950301779547644,
           0.009121979676702242,
           -0.032584784910004744,
           -0.0015160640005628778,
           0.00627137006011639,
           -0.04857058828200329,
           1,
           -0.02578717240172084,
           0.1150927082792597,
           0.11080733423968442
          ],
          [
           -0.02250578046069657,
           -0.0031800769333675503,
           0.2231179343212367,
           -0.008971963408645445,
           0.0005861162068654801,
           0.28066581357242126,
           -0.00907698192872791,
           -0.000634639396660136,
           0.06524208267496162,
           -0.02578717240172084,
           1,
           0.028800865356749167,
           0.028706830263036262
          ],
          [
           -0.015640584381710305,
           -0.5424965557861905,
           0.021142886082617517,
           -0.03432062437851426,
           -0.5973016625915143,
           0.060207334911424014,
           -0.027388992199050992,
           -0.4781406027405143,
           0.07381857107297582,
           0.1150927082792597,
           0.028800865356749167,
           1,
           0.9965786658301313
          ],
          [
           -0.015026094643935752,
           -0.5415660536070096,
           0.020877644718120373,
           -0.033780075083943026,
           -0.5964308255490067,
           0.05961259034985511,
           -0.026774999529419516,
           -0.4773383255913327,
           0.07240598748874542,
           0.11080733423968442,
           0.028706830263036262,
           0.9965786658301313,
           1
          ]
         ]
        }
       ],
       "layout": {
        "coloraxis": {
         "colorscale": [
          [
           0,
           "#0d0887"
          ],
          [
           0.1111111111111111,
           "#46039f"
          ],
          [
           0.2222222222222222,
           "#7201a8"
          ],
          [
           0.3333333333333333,
           "#9c179e"
          ],
          [
           0.4444444444444444,
           "#bd3786"
          ],
          [
           0.5555555555555556,
           "#d8576b"
          ],
          [
           0.6666666666666666,
           "#ed7953"
          ],
          [
           0.7777777777777778,
           "#fb9f3a"
          ],
          [
           0.8888888888888888,
           "#fdca26"
          ],
          [
           1,
           "#f0f921"
          ]
         ]
        },
        "margin": {
         "t": 60
        },
        "template": {
         "data": {
          "bar": [
           {
            "error_x": {
             "color": "#2a3f5f"
            },
            "error_y": {
             "color": "#2a3f5f"
            },
            "marker": {
             "line": {
              "color": "#E5ECF6",
              "width": 0.5
             },
             "pattern": {
              "fillmode": "overlay",
              "size": 10,
              "solidity": 0.2
             }
            },
            "type": "bar"
           }
          ],
          "barpolar": [
           {
            "marker": {
             "line": {
              "color": "#E5ECF6",
              "width": 0.5
             },
             "pattern": {
              "fillmode": "overlay",
              "size": 10,
              "solidity": 0.2
             }
            },
            "type": "barpolar"
           }
          ],
          "carpet": [
           {
            "aaxis": {
             "endlinecolor": "#2a3f5f",
             "gridcolor": "white",
             "linecolor": "white",
             "minorgridcolor": "white",
             "startlinecolor": "#2a3f5f"
            },
            "baxis": {
             "endlinecolor": "#2a3f5f",
             "gridcolor": "white",
             "linecolor": "white",
             "minorgridcolor": "white",
             "startlinecolor": "#2a3f5f"
            },
            "type": "carpet"
           }
          ],
          "choropleth": [
           {
            "colorbar": {
             "outlinewidth": 0,
             "ticks": ""
            },
            "type": "choropleth"
           }
          ],
          "contour": [
           {
            "colorbar": {
             "outlinewidth": 0,
             "ticks": ""
            },
            "colorscale": [
             [
              0,
              "#0d0887"
             ],
             [
              0.1111111111111111,
              "#46039f"
             ],
             [
              0.2222222222222222,
              "#7201a8"
             ],
             [
              0.3333333333333333,
              "#9c179e"
             ],
             [
              0.4444444444444444,
              "#bd3786"
             ],
             [
              0.5555555555555556,
              "#d8576b"
             ],
             [
              0.6666666666666666,
              "#ed7953"
             ],
             [
              0.7777777777777778,
              "#fb9f3a"
             ],
             [
              0.8888888888888888,
              "#fdca26"
             ],
             [
              1,
              "#f0f921"
             ]
            ],
            "type": "contour"
           }
          ],
          "contourcarpet": [
           {
            "colorbar": {
             "outlinewidth": 0,
             "ticks": ""
            },
            "type": "contourcarpet"
           }
          ],
          "heatmap": [
           {
            "colorbar": {
             "outlinewidth": 0,
             "ticks": ""
            },
            "colorscale": [
             [
              0,
              "#0d0887"
             ],
             [
              0.1111111111111111,
              "#46039f"
             ],
             [
              0.2222222222222222,
              "#7201a8"
             ],
             [
              0.3333333333333333,
              "#9c179e"
             ],
             [
              0.4444444444444444,
              "#bd3786"
             ],
             [
              0.5555555555555556,
              "#d8576b"
             ],
             [
              0.6666666666666666,
              "#ed7953"
             ],
             [
              0.7777777777777778,
              "#fb9f3a"
             ],
             [
              0.8888888888888888,
              "#fdca26"
             ],
             [
              1,
              "#f0f921"
             ]
            ],
            "type": "heatmap"
           }
          ],
          "heatmapgl": [
           {
            "colorbar": {
             "outlinewidth": 0,
             "ticks": ""
            },
            "colorscale": [
             [
              0,
              "#0d0887"
             ],
             [
              0.1111111111111111,
              "#46039f"
             ],
             [
              0.2222222222222222,
              "#7201a8"
             ],
             [
              0.3333333333333333,
              "#9c179e"
             ],
             [
              0.4444444444444444,
              "#bd3786"
             ],
             [
              0.5555555555555556,
              "#d8576b"
             ],
             [
              0.6666666666666666,
              "#ed7953"
             ],
             [
              0.7777777777777778,
              "#fb9f3a"
             ],
             [
              0.8888888888888888,
              "#fdca26"
             ],
             [
              1,
              "#f0f921"
             ]
            ],
            "type": "heatmapgl"
           }
          ],
          "histogram": [
           {
            "marker": {
             "pattern": {
              "fillmode": "overlay",
              "size": 10,
              "solidity": 0.2
             }
            },
            "type": "histogram"
           }
          ],
          "histogram2d": [
           {
            "colorbar": {
             "outlinewidth": 0,
             "ticks": ""
            },
            "colorscale": [
             [
              0,
              "#0d0887"
             ],
             [
              0.1111111111111111,
              "#46039f"
             ],
             [
              0.2222222222222222,
              "#7201a8"
             ],
             [
              0.3333333333333333,
              "#9c179e"
             ],
             [
              0.4444444444444444,
              "#bd3786"
             ],
             [
              0.5555555555555556,
              "#d8576b"
             ],
             [
              0.6666666666666666,
              "#ed7953"
             ],
             [
              0.7777777777777778,
              "#fb9f3a"
             ],
             [
              0.8888888888888888,
              "#fdca26"
             ],
             [
              1,
              "#f0f921"
             ]
            ],
            "type": "histogram2d"
           }
          ],
          "histogram2dcontour": [
           {
            "colorbar": {
             "outlinewidth": 0,
             "ticks": ""
            },
            "colorscale": [
             [
              0,
              "#0d0887"
             ],
             [
              0.1111111111111111,
              "#46039f"
             ],
             [
              0.2222222222222222,
              "#7201a8"
             ],
             [
              0.3333333333333333,
              "#9c179e"
             ],
             [
              0.4444444444444444,
              "#bd3786"
             ],
             [
              0.5555555555555556,
              "#d8576b"
             ],
             [
              0.6666666666666666,
              "#ed7953"
             ],
             [
              0.7777777777777778,
              "#fb9f3a"
             ],
             [
              0.8888888888888888,
              "#fdca26"
             ],
             [
              1,
              "#f0f921"
             ]
            ],
            "type": "histogram2dcontour"
           }
          ],
          "mesh3d": [
           {
            "colorbar": {
             "outlinewidth": 0,
             "ticks": ""
            },
            "type": "mesh3d"
           }
          ],
          "parcoords": [
           {
            "line": {
             "colorbar": {
              "outlinewidth": 0,
              "ticks": ""
             }
            },
            "type": "parcoords"
           }
          ],
          "pie": [
           {
            "automargin": true,
            "type": "pie"
           }
          ],
          "scatter": [
           {
            "marker": {
             "colorbar": {
              "outlinewidth": 0,
              "ticks": ""
             }
            },
            "type": "scatter"
           }
          ],
          "scatter3d": [
           {
            "line": {
             "colorbar": {
              "outlinewidth": 0,
              "ticks": ""
             }
            },
            "marker": {
             "colorbar": {
              "outlinewidth": 0,
              "ticks": ""
             }
            },
            "type": "scatter3d"
           }
          ],
          "scattercarpet": [
           {
            "marker": {
             "colorbar": {
              "outlinewidth": 0,
              "ticks": ""
             }
            },
            "type": "scattercarpet"
           }
          ],
          "scattergeo": [
           {
            "marker": {
             "colorbar": {
              "outlinewidth": 0,
              "ticks": ""
             }
            },
            "type": "scattergeo"
           }
          ],
          "scattergl": [
           {
            "marker": {
             "colorbar": {
              "outlinewidth": 0,
              "ticks": ""
             }
            },
            "type": "scattergl"
           }
          ],
          "scattermapbox": [
           {
            "marker": {
             "colorbar": {
              "outlinewidth": 0,
              "ticks": ""
             }
            },
            "type": "scattermapbox"
           }
          ],
          "scatterpolar": [
           {
            "marker": {
             "colorbar": {
              "outlinewidth": 0,
              "ticks": ""
             }
            },
            "type": "scatterpolar"
           }
          ],
          "scatterpolargl": [
           {
            "marker": {
             "colorbar": {
              "outlinewidth": 0,
              "ticks": ""
             }
            },
            "type": "scatterpolargl"
           }
          ],
          "scatterternary": [
           {
            "marker": {
             "colorbar": {
              "outlinewidth": 0,
              "ticks": ""
             }
            },
            "type": "scatterternary"
           }
          ],
          "surface": [
           {
            "colorbar": {
             "outlinewidth": 0,
             "ticks": ""
            },
            "colorscale": [
             [
              0,
              "#0d0887"
             ],
             [
              0.1111111111111111,
              "#46039f"
             ],
             [
              0.2222222222222222,
              "#7201a8"
             ],
             [
              0.3333333333333333,
              "#9c179e"
             ],
             [
              0.4444444444444444,
              "#bd3786"
             ],
             [
              0.5555555555555556,
              "#d8576b"
             ],
             [
              0.6666666666666666,
              "#ed7953"
             ],
             [
              0.7777777777777778,
              "#fb9f3a"
             ],
             [
              0.8888888888888888,
              "#fdca26"
             ],
             [
              1,
              "#f0f921"
             ]
            ],
            "type": "surface"
           }
          ],
          "table": [
           {
            "cells": {
             "fill": {
              "color": "#EBF0F8"
             },
             "line": {
              "color": "white"
             }
            },
            "header": {
             "fill": {
              "color": "#C8D4E3"
             },
             "line": {
              "color": "white"
             }
            },
            "type": "table"
           }
          ]
         },
         "layout": {
          "annotationdefaults": {
           "arrowcolor": "#2a3f5f",
           "arrowhead": 0,
           "arrowwidth": 1
          },
          "autotypenumbers": "strict",
          "coloraxis": {
           "colorbar": {
            "outlinewidth": 0,
            "ticks": ""
           }
          },
          "colorscale": {
           "diverging": [
            [
             0,
             "#8e0152"
            ],
            [
             0.1,
             "#c51b7d"
            ],
            [
             0.2,
             "#de77ae"
            ],
            [
             0.3,
             "#f1b6da"
            ],
            [
             0.4,
             "#fde0ef"
            ],
            [
             0.5,
             "#f7f7f7"
            ],
            [
             0.6,
             "#e6f5d0"
            ],
            [
             0.7,
             "#b8e186"
            ],
            [
             0.8,
             "#7fbc41"
            ],
            [
             0.9,
             "#4d9221"
            ],
            [
             1,
             "#276419"
            ]
           ],
           "sequential": [
            [
             0,
             "#0d0887"
            ],
            [
             0.1111111111111111,
             "#46039f"
            ],
            [
             0.2222222222222222,
             "#7201a8"
            ],
            [
             0.3333333333333333,
             "#9c179e"
            ],
            [
             0.4444444444444444,
             "#bd3786"
            ],
            [
             0.5555555555555556,
             "#d8576b"
            ],
            [
             0.6666666666666666,
             "#ed7953"
            ],
            [
             0.7777777777777778,
             "#fb9f3a"
            ],
            [
             0.8888888888888888,
             "#fdca26"
            ],
            [
             1,
             "#f0f921"
            ]
           ],
           "sequentialminus": [
            [
             0,
             "#0d0887"
            ],
            [
             0.1111111111111111,
             "#46039f"
            ],
            [
             0.2222222222222222,
             "#7201a8"
            ],
            [
             0.3333333333333333,
             "#9c179e"
            ],
            [
             0.4444444444444444,
             "#bd3786"
            ],
            [
             0.5555555555555556,
             "#d8576b"
            ],
            [
             0.6666666666666666,
             "#ed7953"
            ],
            [
             0.7777777777777778,
             "#fb9f3a"
            ],
            [
             0.8888888888888888,
             "#fdca26"
            ],
            [
             1,
             "#f0f921"
            ]
           ]
          },
          "colorway": [
           "#636efa",
           "#EF553B",
           "#00cc96",
           "#ab63fa",
           "#FFA15A",
           "#19d3f3",
           "#FF6692",
           "#B6E880",
           "#FF97FF",
           "#FECB52"
          ],
          "font": {
           "color": "#2a3f5f"
          },
          "geo": {
           "bgcolor": "white",
           "lakecolor": "white",
           "landcolor": "#E5ECF6",
           "showlakes": true,
           "showland": true,
           "subunitcolor": "white"
          },
          "hoverlabel": {
           "align": "left"
          },
          "hovermode": "closest",
          "mapbox": {
           "style": "light"
          },
          "paper_bgcolor": "white",
          "plot_bgcolor": "#E5ECF6",
          "polar": {
           "angularaxis": {
            "gridcolor": "white",
            "linecolor": "white",
            "ticks": ""
           },
           "bgcolor": "#E5ECF6",
           "radialaxis": {
            "gridcolor": "white",
            "linecolor": "white",
            "ticks": ""
           }
          },
          "scene": {
           "xaxis": {
            "backgroundcolor": "#E5ECF6",
            "gridcolor": "white",
            "gridwidth": 2,
            "linecolor": "white",
            "showbackground": true,
            "ticks": "",
            "zerolinecolor": "white"
           },
           "yaxis": {
            "backgroundcolor": "#E5ECF6",
            "gridcolor": "white",
            "gridwidth": 2,
            "linecolor": "white",
            "showbackground": true,
            "ticks": "",
            "zerolinecolor": "white"
           },
           "zaxis": {
            "backgroundcolor": "#E5ECF6",
            "gridcolor": "white",
            "gridwidth": 2,
            "linecolor": "white",
            "showbackground": true,
            "ticks": "",
            "zerolinecolor": "white"
           }
          },
          "shapedefaults": {
           "line": {
            "color": "#2a3f5f"
           }
          },
          "ternary": {
           "aaxis": {
            "gridcolor": "white",
            "linecolor": "white",
            "ticks": ""
           },
           "baxis": {
            "gridcolor": "white",
            "linecolor": "white",
            "ticks": ""
           },
           "bgcolor": "#E5ECF6",
           "caxis": {
            "gridcolor": "white",
            "linecolor": "white",
            "ticks": ""
           }
          },
          "title": {
           "x": 0.05
          },
          "xaxis": {
           "automargin": true,
           "gridcolor": "white",
           "linecolor": "white",
           "ticks": "",
           "title": {
            "standoff": 15
           },
           "zerolinecolor": "white",
           "zerolinewidth": 2
          },
          "yaxis": {
           "automargin": true,
           "gridcolor": "white",
           "linecolor": "white",
           "ticks": "",
           "title": {
            "standoff": 15
           },
           "zerolinecolor": "white",
           "zerolinewidth": 2
          }
         }
        },
        "xaxis": {
         "anchor": "y",
         "constrain": "domain",
         "domain": [
          0,
          1
         ],
         "scaleanchor": "y"
        },
        "yaxis": {
         "anchor": "x",
         "autorange": "reversed",
         "constrain": "domain",
         "domain": [
          0,
          1
         ]
        }
       }
      }
     },
     "metadata": {},
     "output_type": "display_data"
    }
   ],
   "source": [
    "px.imshow(X.corr())"
   ]
  },
  {
   "cell_type": "markdown",
   "metadata": {},
   "source": [
    "<h3>Split data</h3>"
   ]
  },
  {
   "cell_type": "code",
   "execution_count": 41,
   "metadata": {},
   "outputs": [],
   "source": [
    "from sklearn.model_selection import train_test_split\n",
    "X_train, X_test, y_train, y_test = train_test_split(X, y, test_size=0.2, random_state=42)"
   ]
  },
  {
   "cell_type": "markdown",
   "metadata": {},
   "source": [
    "<h3>Scaling data</h3>"
   ]
  },
  {
   "cell_type": "code",
   "execution_count": 42,
   "metadata": {},
   "outputs": [],
   "source": [
    "from sklearn.preprocessing import StandardScaler\n",
    "scaler = StandardScaler()\n",
    "scaler.fit(X_train)\n",
    "X_train_scaled = scaler.transform(X_train)\n",
    "X_test_scaled = scaler.transform(X_test)"
   ]
  },
  {
   "cell_type": "code",
   "execution_count": 43,
   "metadata": {},
   "outputs": [
    {
     "name": "stdout",
     "output_type": "stream",
     "text": [
      "CV score of Random forest Classifier:  0.8036909845726194\n"
     ]
    }
   ],
   "source": [
    "from sklearn.ensemble import RandomForestClassifier\n",
    "from sklearn.model_selection import cross_val_score\n",
    "scores = cross_val_score(RandomForestClassifier(), X_train_scaled, y_train, cv=5)\n",
    "print(\"CV score of Random forest Classifier: \" , scores.mean())"
   ]
  },
  {
   "cell_type": "code",
   "execution_count": 42,
   "metadata": {},
   "outputs": [],
   "source": [
    "rf_params = {\n",
    "    \"n_estimators\" : [50, 100, 200, 1000] , \n",
    "    \"min_samples_split\" : [6, 10 , 15], \n",
    "    \"min_samples_leaf\" : [2, 4, 7] , \n",
    "    \"max_depth\" : np.arange(5 , 51 , 5),\n",
    "    \"bootstrap\" : [True, False] \n",
    "}"
   ]
  },
  {
   "cell_type": "code",
   "execution_count": 43,
   "metadata": {},
   "outputs": [
    {
     "data": {
      "text/plain": [
       "RandomizedSearchCV(cv=4, estimator=RandomForestClassifier(), n_iter=20,\n",
       "                   n_jobs=-1,\n",
       "                   param_distributions={'bootstrap': [True, False],\n",
       "                                        'max_depth': array([ 5, 10, 15, 20, 25, 30, 35, 40, 45, 50]),\n",
       "                                        'min_samples_leaf': [2, 4, 7],\n",
       "                                        'min_samples_split': [6, 10, 15],\n",
       "                                        'n_estimators': [50, 100, 200, 1000]},\n",
       "                   random_state=42)"
      ]
     },
     "execution_count": 43,
     "metadata": {},
     "output_type": "execute_result"
    }
   ],
   "source": [
    "from sklearn.model_selection import RandomizedSearchCV\n",
    "rf_random = RandomizedSearchCV(estimator = RandomForestClassifier(), param_distributions = rf_params, \n",
    "                                n_iter = 20, cv = 4,n_jobs=-1, random_state=42)\n",
    "# Fit the random search model\n",
    "rf_random.fit(X_train_scaled, y_train)"
   ]
  },
  {
   "cell_type": "code",
   "execution_count": 44,
   "metadata": {},
   "outputs": [
    {
     "data": {
      "text/plain": [
       "{'n_estimators': 1000,\n",
       " 'min_samples_split': 6,\n",
       " 'min_samples_leaf': 4,\n",
       " 'max_depth': 40,\n",
       " 'bootstrap': False}"
      ]
     },
     "execution_count": 44,
     "metadata": {},
     "output_type": "execute_result"
    }
   ],
   "source": [
    "rf_random.best_params_\n"
   ]
  },
  {
   "cell_type": "code",
   "execution_count": 44,
   "metadata": {},
   "outputs": [
    {
     "data": {
      "text/plain": [
       "RandomForestClassifier(bootstrap=False, max_depth=40, min_samples_leaf=4,\n",
       "                       min_samples_split=6, n_estimators=1000)"
      ]
     },
     "execution_count": 44,
     "metadata": {},
     "output_type": "execute_result"
    }
   ],
   "source": [
    "model = RandomForestClassifier(max_depth= 40, min_samples_leaf= 4, n_estimators= 1000, min_samples_split=6,bootstrap=False)\n",
    "model.fit(X_train_scaled, y_train)"
   ]
  },
  {
   "cell_type": "code",
   "execution_count": 45,
   "metadata": {},
   "outputs": [
    {
     "name": "stdout",
     "output_type": "stream",
     "text": [
      "              precision    recall  f1-score   support\n",
      "\n",
      "           0       0.82      0.86      0.84      8478\n",
      "           1       0.86      0.83      0.84      9146\n",
      "\n",
      "    accuracy                           0.84     17624\n",
      "   macro avg       0.84      0.84      0.84     17624\n",
      "weighted avg       0.84      0.84      0.84     17624\n",
      "\n"
     ]
    }
   ],
   "source": [
    "from sklearn.metrics import classification_report\n",
    "pred = model.predict(X_test_scaled)\n",
    "print(classification_report(pred, y_test))"
   ]
  }
 ],
 "metadata": {
  "kernelspec": {
   "display_name": "Python 3.9.12 ('base')",
   "language": "python",
   "name": "python3"
  },
  "language_info": {
   "codemirror_mode": {
    "name": "ipython",
    "version": 3
   },
   "file_extension": ".py",
   "mimetype": "text/x-python",
   "name": "python",
   "nbconvert_exporter": "python",
   "pygments_lexer": "ipython3",
   "version": "3.9.12"
  },
  "orig_nbformat": 4,
  "vscode": {
   "interpreter": {
    "hash": "9c1d5a056f04d97314a9f946bc8c5185004572d3d68312220c0ba298420421f7"
   }
  }
 },
 "nbformat": 4,
 "nbformat_minor": 2
}
