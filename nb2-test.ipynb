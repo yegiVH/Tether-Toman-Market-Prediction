{
 "cells": [
  {
   "cell_type": "code",
   "execution_count": 47,
   "metadata": {},
   "outputs": [],
   "source": [
    "import pandas as pd\n",
    "import numpy as np\n",
    "import plotly.express as px\n",
    "import talib as ta\n",
    "\n",
    "# Reading train data\n",
    "BTCUSDT_train = pd.read_csv('data/BTCUSDT.csv')\n",
    "USDIRT_train = pd.read_csv('data/USDIRT.csv')\n",
    "Wallex_USDIRT_train = pd.read_csv('data/Wallex_USDIRT.csv')"
   ]
  },
  {
   "cell_type": "code",
   "execution_count": 48,
   "metadata": {},
   "outputs": [],
   "source": [
    "# Reading test data\n",
    "BTCUSDT_test = pd.read_csv('./data/BTC_TEST.csv')\n",
    "USDIRT_test = pd.read_csv('./data/DOLLAR_TEST.csv')\n",
    "Wallex_USDIRT_test = pd.read_csv('./data/TETHER_TEST.csv')\n",
    "USDIRT_test.rename(columns={'OPEN':'Open', 'HIGH':'High', 'CLOSE':'Close', 'LOW':'Low'}, inplace=True)"
   ]
  },
  {
   "cell_type": "code",
   "execution_count": 49,
   "metadata": {},
   "outputs": [],
   "source": [
    "# Cleaning train data\n",
    "USDIRT_train.rename(columns={'OPEN':'Open', 'HIGH':'High', 'CLOSE':'Close', 'LOW':'Low'}, inplace=True)\n",
    "BTCUSDT_train.drop(columns='Unnamed: 0', inplace=True)\n",
    "USDIRT_train.drop(columns='Unnamed: 0', inplace=True)\n",
    "Wallex_USDIRT_train.drop(columns='Unnamed: 0', inplace=True)\n",
    "BTCUSDT_train['Close'].fillna(BTCUSDT_train['Close'].mean(), inplace=True)\n",
    "USDIRT_train.drop(columns='VOL', inplace=True)\n",
    "USDIRT_train['Close'].fillna(USDIRT_train['Close'].mean(), inplace=True)\n",
    "Wallex_USDIRT_train['Volume'].replace({'?': np.NAN}, inplace=True)\n",
    "Wallex_USDIRT_train['Volume'] = Wallex_USDIRT_train['Volume'].astype(float)\n",
    "Wallex_USDIRT_train['Volume'].fillna(Wallex_USDIRT_train['Volume'].mean(), inplace=True)"
   ]
  },
  {
   "cell_type": "markdown",
   "metadata": {},
   "source": [
    "Creating features for train and test"
   ]
  },
  {
   "cell_type": "code",
   "execution_count": 50,
   "metadata": {},
   "outputs": [],
   "source": [
    "features_train = pd.DataFrame(columns=['BTCUSDT_CCI', 'USDIRT_CCI', 'Wallex_USDIRT_CCI','BTCUSDT_RSI', 'USDIRT_RSI',\n",
    "                            'Wallex_USDIRT_RSI','BTCUSDT_MACD', 'USDIRT_MACD', 'Wallex_USDIRT_MACD',\n",
    "                            'Wallex_USDIRT_Avg_Volume_hour', 'Wallex_USDIRT_return','Tether/Dollar_close','Tether-Dollar/Tether_close','label' ])"
   ]
  },
  {
   "cell_type": "code",
   "execution_count": 51,
   "metadata": {},
   "outputs": [],
   "source": [
    "features_test = pd.DataFrame(columns=['BTCUSDT_CCI', 'USDIRT_CCI', 'Wallex_USDIRT_CCI','BTCUSDT_RSI', 'USDIRT_RSI',\n",
    "                            'Wallex_USDIRT_RSI','BTCUSDT_MACD', 'USDIRT_MACD', 'Wallex_USDIRT_MACD',\n",
    "                            'Wallex_USDIRT_Avg_Volume_hour', 'Wallex_USDIRT_return','Tether/Dollar_close','Tether-Dollar/Tether_close','label' ])"
   ]
  },
  {
   "cell_type": "code",
   "execution_count": 52,
   "metadata": {},
   "outputs": [],
   "source": [
    "def CCI(table, column, features):\n",
    "    df = pd.DataFrame(columns=['TP', 'sma', 'mad'])\n",
    "    df['TP'] = (table['High'] + table['Low'] + table['Close']) / 3 \n",
    "    df['sma'] = df['TP'].rolling(20).mean()\n",
    "    df['mad'] = df['TP'].rolling(20).apply(lambda x: pd.Series(x).mad())\n",
    "    features[column] = (df['TP'] - df['sma']) / (0.015 * df['mad'])\n",
    "    features[column].fillna(features[column].mean(), inplace=True)\n",
    "\n",
    "def RSI(table, column, features):\n",
    "    features[column] = ta.RSI(table['Close'], timeperiod=20)\n",
    "    features[column].fillna(features[column].mean(), inplace=True)\n",
    "    \n",
    "def MACD(table, column, features):\n",
    "    k = table['Close'].ewm(span=12, adjust=False, min_periods=12).mean()\n",
    "    d = table['Close'].ewm(span=26, adjust=False, min_periods=26).mean()\n",
    "    macd = k - d\n",
    "    features[column] = table.index.map(macd)\n",
    "    features[column].fillna(features[column].mean(), inplace=True)"
   ]
  },
  {
   "cell_type": "code",
   "execution_count": 53,
   "metadata": {},
   "outputs": [],
   "source": [
    "CCI(BTCUSDT_train, 'BTCUSDT_CCI', features_train)\n",
    "CCI(USDIRT_train, 'USDIRT_CCI', features_train)\n",
    "CCI(Wallex_USDIRT_train, 'Wallex_USDIRT_CCI', features_train)\n",
    "\n",
    "\n",
    "RSI(BTCUSDT_train, 'BTCUSDT_RSI', features_train)\n",
    "RSI(USDIRT_train, 'USDIRT_RSI', features_train)\n",
    "RSI(Wallex_USDIRT_train, 'Wallex_USDIRT_RSI', features_train)\n",
    "\n",
    "\n",
    "MACD(BTCUSDT_train, 'BTCUSDT_MACD', features_train)\n",
    "MACD(USDIRT_train, 'USDIRT_MACD', features_train)\n",
    "MACD(Wallex_USDIRT_train, 'Wallex_USDIRT_MACD', features_train)"
   ]
  },
  {
   "cell_type": "code",
   "execution_count": 54,
   "metadata": {},
   "outputs": [],
   "source": [
    "CCI(BTCUSDT_test, 'BTCUSDT_CCI', features_test)\n",
    "CCI(USDIRT_test, 'USDIRT_CCI', features_test)\n",
    "CCI(Wallex_USDIRT_test, 'Wallex_USDIRT_CCI', features_test)\n",
    "\n",
    "RSI(BTCUSDT_test, 'BTCUSDT_RSI', features_test)\n",
    "RSI(USDIRT_test, 'USDIRT_RSI', features_test)\n",
    "RSI(Wallex_USDIRT_test, 'Wallex_USDIRT_RSI', features_test)\n",
    "\n",
    "MACD(BTCUSDT_test, 'BTCUSDT_MACD', features_test)\n",
    "MACD(USDIRT_test, 'USDIRT_MACD', features_test)\n",
    "MACD(Wallex_USDIRT_test, 'Wallex_USDIRT_MACD', features_test)"
   ]
  },
  {
   "cell_type": "code",
   "execution_count": 55,
   "metadata": {},
   "outputs": [],
   "source": [
    "# The average volume of Tether transactions in the past hour\n",
    "features_train['Wallex_USDIRT_Avg_Volume_hour'] = Wallex_USDIRT_train['Volume'].rolling(61).mean()\n",
    "features_train['Wallex_USDIRT_Avg_Volume_hour'].fillna(features_train['Wallex_USDIRT_Avg_Volume_hour'].mean(), inplace=True)"
   ]
  },
  {
   "cell_type": "code",
   "execution_count": 56,
   "metadata": {},
   "outputs": [],
   "source": [
    "features_test['Wallex_USDIRT_Avg_Volume_hour'] = Wallex_USDIRT_test['Volume'].rolling(61).mean()\n",
    "features_test['Wallex_USDIRT_Avg_Volume_hour'].fillna(features_test['Wallex_USDIRT_Avg_Volume_hour'].mean(), inplace=True)"
   ]
  },
  {
   "cell_type": "code",
   "execution_count": 57,
   "metadata": {},
   "outputs": [],
   "source": [
    "# Tether's return in a min\n",
    "features_train['Wallex_USDIRT_return'] = Wallex_USDIRT_train['Close'] - Wallex_USDIRT_train['Open']"
   ]
  },
  {
   "cell_type": "code",
   "execution_count": 58,
   "metadata": {},
   "outputs": [],
   "source": [
    "features_test['Wallex_USDIRT_return'] = Wallex_USDIRT_test['Close'] - Wallex_USDIRT_test['Open']"
   ]
  },
  {
   "cell_type": "code",
   "execution_count": 59,
   "metadata": {},
   "outputs": [],
   "source": [
    "# Tether/Dollar_close\n",
    "features_train['Tether/Dollar_close'] = Wallex_USDIRT_train['Close'] / USDIRT_train['Close']"
   ]
  },
  {
   "cell_type": "code",
   "execution_count": 60,
   "metadata": {},
   "outputs": [],
   "source": [
    "features_test['Tether/Dollar_close'] = Wallex_USDIRT_test['Close'] / USDIRT_test['Close']"
   ]
  },
  {
   "cell_type": "code",
   "execution_count": 61,
   "metadata": {},
   "outputs": [],
   "source": [
    "# Tether-Dollar/Tether_close\n",
    "features_train['Tether-Dollar/Tether_close'] = ( Wallex_USDIRT_train['Close'] - USDIRT_train['Close'] ) / Wallex_USDIRT_train['Close']"
   ]
  },
  {
   "cell_type": "code",
   "execution_count": 62,
   "metadata": {},
   "outputs": [],
   "source": [
    "features_test['Tether-Dollar/Tether_close'] = ( Wallex_USDIRT_test['Close'] - USDIRT_test['Close'] ) / Wallex_USDIRT_test['Close']"
   ]
  },
  {
   "cell_type": "markdown",
   "metadata": {},
   "source": [
    "Making labels"
   ]
  },
  {
   "cell_type": "code",
   "execution_count": 63,
   "metadata": {},
   "outputs": [],
   "source": [
    "# for train\n",
    "label = []\n",
    "for i in range(0, Wallex_USDIRT_train.shape[0] - 1):\n",
    "    if Wallex_USDIRT_train.loc[i, 'Close'] < Wallex_USDIRT_train.loc[i + 1, 'Close']:\n",
    "        label.append('1')\n",
    "    else:\n",
    "        label.append('0')\n",
    "label.append('0')\n",
    "features_train['label'] = label"
   ]
  },
  {
   "cell_type": "code",
   "execution_count": 64,
   "metadata": {},
   "outputs": [],
   "source": [
    "# for test\n",
    "label = []\n",
    "for i in range(0, Wallex_USDIRT_test.shape[0] - 1):\n",
    "    if Wallex_USDIRT_test.loc[i, 'Close'] < Wallex_USDIRT_test.loc[i + 1, 'Close']:\n",
    "        label.append('1')\n",
    "    else:\n",
    "        label.append('0')\n",
    "label.append('0')\n",
    "features_test['label'] = label"
   ]
  },
  {
   "cell_type": "markdown",
   "metadata": {},
   "source": [
    "resampling train data"
   ]
  },
  {
   "cell_type": "code",
   "execution_count": 65,
   "metadata": {},
   "outputs": [],
   "source": [
    "label_z = features_train[features_train['label'] == '0']\n",
    "label_o = features_train[features_train['label'] == '1']\n",
    "label_o_upsampled = label_o.sample(n=len(label_z), replace=True ,  random_state=42)\n",
    "data_upsampled = pd.concat([label_z, label_o_upsampled])\n",
    "data_upsampled.reset_index(drop=True, inplace=True)"
   ]
  },
  {
   "cell_type": "code",
   "execution_count": 66,
   "metadata": {},
   "outputs": [
    {
     "data": {
      "text/html": [
       "<div>\n",
       "<style scoped>\n",
       "    .dataframe tbody tr th:only-of-type {\n",
       "        vertical-align: middle;\n",
       "    }\n",
       "\n",
       "    .dataframe tbody tr th {\n",
       "        vertical-align: top;\n",
       "    }\n",
       "\n",
       "    .dataframe thead th {\n",
       "        text-align: right;\n",
       "    }\n",
       "</style>\n",
       "<table border=\"1\" class=\"dataframe\">\n",
       "  <thead>\n",
       "    <tr style=\"text-align: right;\">\n",
       "      <th></th>\n",
       "      <th>BTCUSDT_CCI</th>\n",
       "      <th>USDIRT_CCI</th>\n",
       "      <th>Wallex_USDIRT_CCI</th>\n",
       "      <th>BTCUSDT_RSI</th>\n",
       "      <th>USDIRT_RSI</th>\n",
       "      <th>Wallex_USDIRT_RSI</th>\n",
       "      <th>BTCUSDT_MACD</th>\n",
       "      <th>USDIRT_MACD</th>\n",
       "      <th>Wallex_USDIRT_MACD</th>\n",
       "      <th>Wallex_USDIRT_Avg_Volume_hour</th>\n",
       "      <th>Wallex_USDIRT_return</th>\n",
       "      <th>Tether/Dollar_close</th>\n",
       "      <th>Tether-Dollar/Tether_close</th>\n",
       "      <th>label</th>\n",
       "    </tr>\n",
       "  </thead>\n",
       "  <tbody>\n",
       "    <tr>\n",
       "      <th>0</th>\n",
       "      <td>-30.433935</td>\n",
       "      <td>33.470833</td>\n",
       "      <td>30.839002</td>\n",
       "      <td>48.829822</td>\n",
       "      <td>51.149557</td>\n",
       "      <td>52.587936</td>\n",
       "      <td>-224.750504</td>\n",
       "      <td>61.730238</td>\n",
       "      <td>-1.914280</td>\n",
       "      <td>848.537358</td>\n",
       "      <td>87.0</td>\n",
       "      <td>1.012176</td>\n",
       "      <td>0.012030</td>\n",
       "      <td>0</td>\n",
       "    </tr>\n",
       "    <tr>\n",
       "      <th>1</th>\n",
       "      <td>-37.785282</td>\n",
       "      <td>72.332326</td>\n",
       "      <td>94.316443</td>\n",
       "      <td>48.257480</td>\n",
       "      <td>55.712026</td>\n",
       "      <td>65.639597</td>\n",
       "      <td>-467.995076</td>\n",
       "      <td>77.416644</td>\n",
       "      <td>53.604659</td>\n",
       "      <td>754.979490</td>\n",
       "      <td>0.0</td>\n",
       "      <td>1.010890</td>\n",
       "      <td>0.010773</td>\n",
       "      <td>0</td>\n",
       "    </tr>\n",
       "    <tr>\n",
       "      <th>2</th>\n",
       "      <td>105.275459</td>\n",
       "      <td>-42.553191</td>\n",
       "      <td>72.124756</td>\n",
       "      <td>51.340059</td>\n",
       "      <td>48.784788</td>\n",
       "      <td>49.511595</td>\n",
       "      <td>40.167613</td>\n",
       "      <td>-32.022492</td>\n",
       "      <td>1.077380</td>\n",
       "      <td>644.965710</td>\n",
       "      <td>-11.0</td>\n",
       "      <td>0.996354</td>\n",
       "      <td>-0.003660</td>\n",
       "      <td>0</td>\n",
       "    </tr>\n",
       "    <tr>\n",
       "      <th>3</th>\n",
       "      <td>-90.680869</td>\n",
       "      <td>44.581742</td>\n",
       "      <td>213.668061</td>\n",
       "      <td>48.400133</td>\n",
       "      <td>51.456617</td>\n",
       "      <td>59.528241</td>\n",
       "      <td>-38.966598</td>\n",
       "      <td>-87.078546</td>\n",
       "      <td>3.438470</td>\n",
       "      <td>748.582750</td>\n",
       "      <td>1.0</td>\n",
       "      <td>1.001430</td>\n",
       "      <td>0.001428</td>\n",
       "      <td>1</td>\n",
       "    </tr>\n",
       "    <tr>\n",
       "      <th>4</th>\n",
       "      <td>-115.376381</td>\n",
       "      <td>-319.334125</td>\n",
       "      <td>75.357050</td>\n",
       "      <td>47.950879</td>\n",
       "      <td>39.038687</td>\n",
       "      <td>51.965857</td>\n",
       "      <td>-125.060754</td>\n",
       "      <td>-44.042447</td>\n",
       "      <td>10.162833</td>\n",
       "      <td>3987.114033</td>\n",
       "      <td>7.0</td>\n",
       "      <td>1.084381</td>\n",
       "      <td>0.077815</td>\n",
       "      <td>1</td>\n",
       "    </tr>\n",
       "    <tr>\n",
       "      <th>...</th>\n",
       "      <td>...</td>\n",
       "      <td>...</td>\n",
       "      <td>...</td>\n",
       "      <td>...</td>\n",
       "      <td>...</td>\n",
       "      <td>...</td>\n",
       "      <td>...</td>\n",
       "      <td>...</td>\n",
       "      <td>...</td>\n",
       "      <td>...</td>\n",
       "      <td>...</td>\n",
       "      <td>...</td>\n",
       "      <td>...</td>\n",
       "      <td>...</td>\n",
       "    </tr>\n",
       "    <tr>\n",
       "      <th>88115</th>\n",
       "      <td>38.202101</td>\n",
       "      <td>6.469238</td>\n",
       "      <td>19.223431</td>\n",
       "      <td>51.367495</td>\n",
       "      <td>49.461434</td>\n",
       "      <td>51.283619</td>\n",
       "      <td>-250.366735</td>\n",
       "      <td>-4.171027</td>\n",
       "      <td>-2.648667</td>\n",
       "      <td>1155.302614</td>\n",
       "      <td>0.0</td>\n",
       "      <td>0.994508</td>\n",
       "      <td>-0.005522</td>\n",
       "      <td>0</td>\n",
       "    </tr>\n",
       "    <tr>\n",
       "      <th>88116</th>\n",
       "      <td>27.384000</td>\n",
       "      <td>-137.131614</td>\n",
       "      <td>-31.731709</td>\n",
       "      <td>51.018146</td>\n",
       "      <td>47.954546</td>\n",
       "      <td>49.048525</td>\n",
       "      <td>107.220036</td>\n",
       "      <td>-26.770554</td>\n",
       "      <td>-0.312086</td>\n",
       "      <td>1249.525391</td>\n",
       "      <td>0.0</td>\n",
       "      <td>0.999275</td>\n",
       "      <td>-0.000725</td>\n",
       "      <td>1</td>\n",
       "    </tr>\n",
       "    <tr>\n",
       "      <th>88117</th>\n",
       "      <td>63.562755</td>\n",
       "      <td>363.540011</td>\n",
       "      <td>-66.921050</td>\n",
       "      <td>51.760455</td>\n",
       "      <td>52.933400</td>\n",
       "      <td>42.640841</td>\n",
       "      <td>320.128616</td>\n",
       "      <td>2.923626</td>\n",
       "      <td>-19.502695</td>\n",
       "      <td>665.034881</td>\n",
       "      <td>0.0</td>\n",
       "      <td>0.995485</td>\n",
       "      <td>-0.004536</td>\n",
       "      <td>1</td>\n",
       "    </tr>\n",
       "    <tr>\n",
       "      <th>88118</th>\n",
       "      <td>-43.102028</td>\n",
       "      <td>-36.430484</td>\n",
       "      <td>58.041838</td>\n",
       "      <td>48.726482</td>\n",
       "      <td>48.003338</td>\n",
       "      <td>54.389610</td>\n",
       "      <td>-32.699030</td>\n",
       "      <td>61.903864</td>\n",
       "      <td>37.380920</td>\n",
       "      <td>1753.221766</td>\n",
       "      <td>-16.0</td>\n",
       "      <td>1.020464</td>\n",
       "      <td>0.020054</td>\n",
       "      <td>0</td>\n",
       "    </tr>\n",
       "    <tr>\n",
       "      <th>88119</th>\n",
       "      <td>46.536345</td>\n",
       "      <td>-105.391324</td>\n",
       "      <td>76.881893</td>\n",
       "      <td>51.655561</td>\n",
       "      <td>46.431926</td>\n",
       "      <td>53.071094</td>\n",
       "      <td>239.415707</td>\n",
       "      <td>-34.034266</td>\n",
       "      <td>-5.838976</td>\n",
       "      <td>989.299963</td>\n",
       "      <td>0.0</td>\n",
       "      <td>0.998239</td>\n",
       "      <td>-0.001764</td>\n",
       "      <td>0</td>\n",
       "    </tr>\n",
       "  </tbody>\n",
       "</table>\n",
       "<p>88120 rows × 14 columns</p>\n",
       "</div>"
      ],
      "text/plain": [
       "       BTCUSDT_CCI  USDIRT_CCI  Wallex_USDIRT_CCI  BTCUSDT_RSI  USDIRT_RSI  \\\n",
       "0       -30.433935   33.470833          30.839002    48.829822   51.149557   \n",
       "1       -37.785282   72.332326          94.316443    48.257480   55.712026   \n",
       "2       105.275459  -42.553191          72.124756    51.340059   48.784788   \n",
       "3       -90.680869   44.581742         213.668061    48.400133   51.456617   \n",
       "4      -115.376381 -319.334125          75.357050    47.950879   39.038687   \n",
       "...            ...         ...                ...          ...         ...   \n",
       "88115    38.202101    6.469238          19.223431    51.367495   49.461434   \n",
       "88116    27.384000 -137.131614         -31.731709    51.018146   47.954546   \n",
       "88117    63.562755  363.540011         -66.921050    51.760455   52.933400   \n",
       "88118   -43.102028  -36.430484          58.041838    48.726482   48.003338   \n",
       "88119    46.536345 -105.391324          76.881893    51.655561   46.431926   \n",
       "\n",
       "       Wallex_USDIRT_RSI  BTCUSDT_MACD  USDIRT_MACD  Wallex_USDIRT_MACD  \\\n",
       "0              52.587936   -224.750504    61.730238           -1.914280   \n",
       "1              65.639597   -467.995076    77.416644           53.604659   \n",
       "2              49.511595     40.167613   -32.022492            1.077380   \n",
       "3              59.528241    -38.966598   -87.078546            3.438470   \n",
       "4              51.965857   -125.060754   -44.042447           10.162833   \n",
       "...                  ...           ...          ...                 ...   \n",
       "88115          51.283619   -250.366735    -4.171027           -2.648667   \n",
       "88116          49.048525    107.220036   -26.770554           -0.312086   \n",
       "88117          42.640841    320.128616     2.923626          -19.502695   \n",
       "88118          54.389610    -32.699030    61.903864           37.380920   \n",
       "88119          53.071094    239.415707   -34.034266           -5.838976   \n",
       "\n",
       "       Wallex_USDIRT_Avg_Volume_hour  Wallex_USDIRT_return  \\\n",
       "0                         848.537358                  87.0   \n",
       "1                         754.979490                   0.0   \n",
       "2                         644.965710                 -11.0   \n",
       "3                         748.582750                   1.0   \n",
       "4                        3987.114033                   7.0   \n",
       "...                              ...                   ...   \n",
       "88115                    1155.302614                   0.0   \n",
       "88116                    1249.525391                   0.0   \n",
       "88117                     665.034881                   0.0   \n",
       "88118                    1753.221766                 -16.0   \n",
       "88119                     989.299963                   0.0   \n",
       "\n",
       "       Tether/Dollar_close  Tether-Dollar/Tether_close label  \n",
       "0                 1.012176                    0.012030     0  \n",
       "1                 1.010890                    0.010773     0  \n",
       "2                 0.996354                   -0.003660     0  \n",
       "3                 1.001430                    0.001428     1  \n",
       "4                 1.084381                    0.077815     1  \n",
       "...                    ...                         ...   ...  \n",
       "88115             0.994508                   -0.005522     0  \n",
       "88116             0.999275                   -0.000725     1  \n",
       "88117             0.995485                   -0.004536     1  \n",
       "88118             1.020464                    0.020054     0  \n",
       "88119             0.998239                   -0.001764     0  \n",
       "\n",
       "[88120 rows x 14 columns]"
      ]
     },
     "execution_count": 66,
     "metadata": {},
     "output_type": "execute_result"
    }
   ],
   "source": [
    "ndata = data_upsampled.sample(frac=1 , random_state=42)\n",
    "ndata.reset_index(drop=True, inplace=True)\n",
    "ndata"
   ]
  },
  {
   "cell_type": "code",
   "execution_count": 67,
   "metadata": {},
   "outputs": [],
   "source": [
    "X_train = ndata.drop(columns=['label'])\n",
    "y_train = ndata['label']"
   ]
  },
  {
   "cell_type": "code",
   "execution_count": 68,
   "metadata": {},
   "outputs": [],
   "source": [
    "X_test = features_test.drop(columns=['label'])\n",
    "y_test = features_test['label']"
   ]
  },
  {
   "cell_type": "markdown",
   "metadata": {},
   "source": [
    "Scaling data"
   ]
  },
  {
   "cell_type": "code",
   "execution_count": 75,
   "metadata": {},
   "outputs": [],
   "source": [
    "from sklearn.preprocessing import StandardScaler\n",
    "scaler = StandardScaler()\n",
    "scaler.fit(X_train)\n",
    "X_train_scaled = scaler.transform(X_train)"
   ]
  },
  {
   "cell_type": "code",
   "execution_count": 76,
   "metadata": {},
   "outputs": [],
   "source": [
    "X_test_scaled = scaler.transform(X_test)"
   ]
  },
  {
   "cell_type": "code",
   "execution_count": 77,
   "metadata": {},
   "outputs": [
    {
     "name": "stdout",
     "output_type": "stream",
     "text": [
      "CV score of Random forest Classifier:  0.8361892873354517\n"
     ]
    }
   ],
   "source": [
    "from sklearn.ensemble import RandomForestClassifier\n",
    "from sklearn.model_selection import cross_val_score\n",
    "scores = cross_val_score(RandomForestClassifier(), X_train_scaled, y_train, cv=5)\n",
    "print(\"CV score of Random forest Classifier: \" , scores.mean())"
   ]
  },
  {
   "cell_type": "code",
   "execution_count": 78,
   "metadata": {},
   "outputs": [
    {
     "data": {
      "text/plain": [
       "RandomForestClassifier(bootstrap=False, max_depth=40, min_samples_leaf=4,\n",
       "                       min_samples_split=6, n_estimators=1000)"
      ]
     },
     "execution_count": 78,
     "metadata": {},
     "output_type": "execute_result"
    }
   ],
   "source": [
    "model = RandomForestClassifier(max_depth= 40, \n",
    "                               min_samples_leaf= 4, \n",
    "                               n_estimators= 1000, \n",
    "                               min_samples_split=6,\n",
    "                               bootstrap=False)\n",
    "model.fit(X_train_scaled, y_train)"
   ]
  },
  {
   "cell_type": "code",
   "execution_count": 79,
   "metadata": {},
   "outputs": [
    {
     "name": "stdout",
     "output_type": "stream",
     "text": [
      "              precision    recall  f1-score   support\n",
      "\n",
      "           0       0.87      0.51      0.64      1169\n",
      "           1       0.15      0.52      0.23       193\n",
      "\n",
      "    accuracy                           0.51      1362\n",
      "   macro avg       0.51      0.51      0.44      1362\n",
      "weighted avg       0.76      0.51      0.58      1362\n",
      "\n"
     ]
    }
   ],
   "source": [
    "from sklearn.metrics import classification_report\n",
    "pred = model.predict(X_test_scaled)\n",
    "print(classification_report(pred, y_test))"
   ]
  },
  {
   "cell_type": "code",
   "execution_count": null,
   "metadata": {},
   "outputs": [],
   "source": [
    "output = pd.Series(pred, index=Wallex_USDIRT_test.loc['Datetime'])\n",
    "output"
   ]
  }
 ],
 "metadata": {
  "kernelspec": {
   "display_name": "Python 3.9.12 ('base')",
   "language": "python",
   "name": "python3"
  },
  "language_info": {
   "codemirror_mode": {
    "name": "ipython",
    "version": 3
   },
   "file_extension": ".py",
   "mimetype": "text/x-python",
   "name": "python",
   "nbconvert_exporter": "python",
   "pygments_lexer": "ipython3",
   "version": "3.9.12"
  },
  "orig_nbformat": 4,
  "vscode": {
   "interpreter": {
    "hash": "9c1d5a056f04d97314a9f946bc8c5185004572d3d68312220c0ba298420421f7"
   }
  }
 },
 "nbformat": 4,
 "nbformat_minor": 2
}
